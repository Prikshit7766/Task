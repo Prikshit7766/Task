{
 "cells": [
  {
   "cell_type": "code",
   "execution_count": null,
   "id": "b39cbc47",
   "metadata": {},
   "outputs": [],
   "source": [
    "Your First Challenge : \n",
    "    \n",
    "you have to submit it by next saturday 4th june 2022  : \n",
    "    shivan@ineuron.ai ,sudhanshu@ineuron.ai\n",
    "    \n",
    "q1 : Try to print this by using while loop \n",
    "* \n",
    "* * \n",
    "* * * \n",
    "* * * * \n",
    "* * * * * \n",
    "* * * * * * \n",
    "* * * * * * * \n",
    "* * * * * * * * \n",
    "* * * * * * * * * \n",
    "\n",
    "q2 : try to print below by using while loop : \n",
    "        \n",
    "A\n",
    "B H \n",
    "C I N\n",
    "D J o S\n",
    "E K p T W\n",
    "F L Q U X z\n",
    "G M R V Y \n",
    "\n",
    "q3 : Try to print all the number divisible by 3 in between a range of 40 - 400\n",
    "    \n",
    "q4 : Try to filter out all the vowels form below text by using while loop : \n",
    " \"\"\"Python is a high-level, interpreted, general-purpose programming language. Its design philosophy emphasizes code readability with the use of significant indentation.[32]\n",
    "\n",
    "Python is dynamically-typed and garbage-collected. It supports multiple programming paradigms, including structured (particularly procedural), object-oriented and functional programming. It is often described as a \"batteries included\" language due to its comprehensive standard library.[33][34]\n",
    "\n",
    "Guido van Rossum began working on Python in the late 1980s as a successor to the ABC programming language and first released it in 1991 as Python 0.9.0.[35] Python 2.0 was released in 2000 and introduced new features such as list comprehensions, cycle-detecting garbage collection, reference counting, and Unicode support. Python 3.0, released in 2008, was a major revision that is not completely backward-compatible with earlier versions. Python 2 was discontinued with version 2.7.18 in 2020.[36]\n",
    "\n",
    "Python consistently ranks as one of the most popular programming languagesc\"\"\" \n",
    "\n",
    "\n",
    "q5 : Try to generate all the even number between 1- 1000\n",
    "\n",
    "q6 : Define a function for all the above problem statememnt  . \n",
    "    \n",
    "q7 : write a code to get a time of your system \n",
    "\n",
    "q8 : Write a code to fetch date form your system \n",
    "\n",
    "q9 : Write a code to send a mail to your friend \n",
    "\n",
    "q10 : write a code to trigger alarm for you at scheduled time \n",
    "\n",
    "q11 : write a code to check ip address of your system \n",
    "\n",
    "q12 : Write a code to check a perticular installation in your system\n",
    "\n",
    "q13 : Write a code to convert any text in to voice \n",
    "\n",
    "q14 : you have to write a fun which will take string and return a len of \n",
    "it without using a inbuilt fun len\n",
    "\n",
    "q15 :write a fun which will be able to print an index of all premitive element which you will pass \n",
    "\n",
    "q16 : Write a fun which will take input as a dict and give me out as a list of all the values \n",
    "even in case of 2 level nesting it should work . \n",
    "\n",
    "q17 : write a function whihc will take multiple list as a input and give me concatnation of all the element as \n",
    "and output\n",
    "\n",
    "q18 : Write a function which will whould return list of all the file name from a directory . \n",
    "\n",
    "q19 : write a function whihc will be able to read a image file and show it to you .\n",
    "    \n",
    "q20 : write a function by which you will be able to append two PDF files . \n",
    "    \n",
    "q21 : write a function which can help you to filter only word file from a directory . \n",
    "    \n",
    "q22 : write a function which can read video file and play for you . \n",
    "    \n",
    "q23 : write a function which will be able to shutdonw your system . \n",
    "\n",
    "q24 : Write a function which will whould return list of all the file name from a directory . \n",
    "\n",
    "q25 : write a function whihc will be able to access your mail . \n",
    "        "
   ]
  },
  {
   "cell_type": "code",
   "execution_count": null,
   "id": "0ca864a5",
   "metadata": {},
   "outputs": [],
   "source": [
    "#q1 : Try to print this by using while loop \n",
    "\n",
    "* \n",
    "* * \n",
    "* * * \n",
    "* * * * \n",
    "* * * * * \n",
    "* * * * * * \n",
    "* * * * * * * \n",
    "* * * * * * * * \n",
    "* * * * * * * * * \n"
   ]
  },
  {
   "cell_type": "code",
   "execution_count": 17,
   "id": "60d5d1d9",
   "metadata": {},
   "outputs": [
    {
     "name": "stdout",
     "output_type": "stream",
     "text": [
      "* \n",
      "* * \n",
      "* * * \n",
      "* * * * \n",
      "* * * * * \n",
      "* * * * * * \n",
      "* * * * * * * \n",
      "* * * * * * * * \n",
      "* * * * * * * * * \n"
     ]
    }
   ],
   "source": [
    "a=1\n",
    "b=9\n",
    "z=1\n",
    "while a<=b:\n",
    "    c=0\n",
    "    while z>c:\n",
    "        print(\"*\",end=\" \")\n",
    "        c+=1\n",
    "    print()   \n",
    "    a+=1\n",
    "    z=a    "
   ]
  },
  {
   "cell_type": "code",
   "execution_count": 120,
   "id": "d7fabd75",
   "metadata": {},
   "outputs": [
    {
     "name": "stdout",
     "output_type": "stream",
     "text": [
      "*  \n",
      "* *  \n",
      "* * *  \n",
      "* * * *  \n",
      "* * * * *  \n",
      "* * * * * *  \n",
      "* * * * * * *  \n",
      "* * * * * * * *  \n",
      "* * * * * * * * *  \n"
     ]
    }
   ],
   "source": [
    "#or\n",
    "a=1\n",
    "b=9\n",
    "while a<=b:\n",
    "    print(\"* \"*a,end=\" \")\n",
    "\n",
    "    print()   \n",
    "    a+=1\n"
   ]
  },
  {
   "cell_type": "code",
   "execution_count": null,
   "id": "ed3c8d23",
   "metadata": {},
   "outputs": [],
   "source": [
    "#q2 : try to print below by using while loop : \n",
    "        \n",
    "A\n",
    "B H \n",
    "C I N\n",
    "D J o S\n",
    "E K p T W\n",
    "F L Q U X z\n",
    "G M R V Y "
   ]
  },
  {
   "cell_type": "code",
   "execution_count": 122,
   "id": "34a401a6",
   "metadata": {},
   "outputs": [
    {
     "name": "stdout",
     "output_type": "stream",
     "text": [
      "A\n",
      "B H \n",
      "C I N \n",
      "D J O S \n",
      "E K P T W \n",
      "F L Q U X Z \n",
      "G M R V Y \n"
     ]
    }
   ],
   "source": [
    "a1 = \"ABCDEFGHIJKLMNOPQRSTUVWXYZ\"\n",
    "i=1\n",
    "a=7\n",
    "print(a1[0])\n",
    "while i<a:\n",
    "    \n",
    "    print(a1[i],end =\" \")\n",
    "    y=i\n",
    "    d=0\n",
    "    c=i\n",
    "    add=6\n",
    "    \n",
    "    while y>d: \n",
    "        c=c+add\n",
    "        if len(a1)>c:\n",
    "            print(a1[c],end=\" \")\n",
    "        d+=1\n",
    "        add-=1\n",
    "    print()\n",
    "    i+=1\n",
    "    \n",
    "    "
   ]
  },
  {
   "cell_type": "code",
   "execution_count": 236,
   "id": "a320557f",
   "metadata": {},
   "outputs": [
    {
     "name": "stdout",
     "output_type": "stream",
     "text": [
      "number divisible by 3 in between a range of 40 - 400\n",
      "42\n",
      "45\n",
      "48\n",
      "51\n",
      "54\n",
      "57\n",
      "60\n",
      "63\n",
      "66\n",
      "69\n",
      "72\n",
      "75\n",
      "78\n",
      "81\n",
      "84\n",
      "87\n",
      "90\n",
      "93\n",
      "96\n",
      "99\n",
      "102\n",
      "105\n",
      "108\n",
      "111\n",
      "114\n",
      "117\n",
      "120\n",
      "123\n",
      "126\n",
      "129\n",
      "132\n",
      "135\n",
      "138\n",
      "141\n",
      "144\n",
      "147\n",
      "150\n",
      "153\n",
      "156\n",
      "159\n",
      "162\n",
      "165\n",
      "168\n",
      "171\n",
      "174\n",
      "177\n",
      "180\n",
      "183\n",
      "186\n",
      "189\n",
      "192\n",
      "195\n",
      "198\n",
      "201\n",
      "204\n",
      "207\n",
      "210\n",
      "213\n",
      "216\n",
      "219\n",
      "222\n",
      "225\n",
      "228\n",
      "231\n",
      "234\n",
      "237\n",
      "240\n",
      "243\n",
      "246\n",
      "249\n",
      "252\n",
      "255\n",
      "258\n",
      "261\n",
      "264\n",
      "267\n",
      "270\n",
      "273\n",
      "276\n",
      "279\n",
      "282\n",
      "285\n",
      "288\n",
      "291\n",
      "294\n",
      "297\n",
      "300\n",
      "303\n",
      "306\n",
      "309\n",
      "312\n",
      "315\n",
      "318\n",
      "321\n",
      "324\n",
      "327\n",
      "330\n",
      "333\n",
      "336\n",
      "339\n",
      "342\n",
      "345\n",
      "348\n",
      "351\n",
      "354\n",
      "357\n",
      "360\n",
      "363\n",
      "366\n",
      "369\n",
      "372\n",
      "375\n",
      "378\n",
      "381\n",
      "384\n",
      "387\n",
      "390\n",
      "393\n",
      "396\n",
      "399\n"
     ]
    },
    {
     "data": {
      "text/plain": [
       "120"
      ]
     },
     "execution_count": 236,
     "metadata": {},
     "output_type": "execute_result"
    }
   ],
   "source": [
    "a=[]\n",
    "i=40\n",
    "while 400>=i:\n",
    "    if i%3==0:\n",
    "        a.append(i)\n",
    "    i+=1   \n",
    "print(\"number divisible by 3 in between a range of 40 - 400\")\n",
    "print(*a,sep=\"\\n\")\n",
    "len(a)"
   ]
  },
  {
   "cell_type": "code",
   "execution_count": null,
   "id": "39f4e373",
   "metadata": {},
   "outputs": [],
   "source": [
    "#q4 : Try to filter out all the vowels form below text by using while loop : \n",
    " \"\"\"Python is a high-level, interpreted, general-purpose programming language. Its design philosophy emphasizes code readability with the use of significant indentation.[32]\n",
    "\n",
    "Python is dynamically-typed and garbage-collected. It supports multiple programming paradigms, including structured (particularly procedural), object-oriented and functional programming. It is often described as a \"batteries included\" language due to its comprehensive standard library.[33][34]\n",
    "\n",
    "Guido van Rossum began working on Python in the late 1980s as a successor to the ABC programming language and first released it in 1991 as Python 0.9.0.[35] Python 2.0 was released in 2000 and introduced new features such as list comprehensions, cycle-detecting garbage collection, reference counting, and Unicode support. Python 3.0, released in 2008, was a major revision that is not completely backward-compatible with earlier versions. Python 2 was discontinued with version 2.7.18 in 2020.[36]\n",
    "\n",
    "Python consistently ranks as one of the most popular programming languagesc\"\"\" \n"
   ]
  },
  {
   "cell_type": "code",
   "execution_count": 126,
   "id": "8b9ca964",
   "metadata": {},
   "outputs": [],
   "source": [
    "txt=\"\"\"Python is a high-level, interpreted, general-purpose programming language. Its design philosophy emphasizes code readability with the use of significant indentation.[32]\n",
    "\n",
    "Python is dynamically-typed and garbage-collected. It supports multiple programming paradigms, including structured (particularly procedural), object-oriented and functional programming. It is often described as a \"batteries included\" language due to its comprehensive standard library.[33][34]\n",
    "\n",
    "Guido van Rossum began working on Python in the late 1980s as a successor to the ABC programming language and first released it in 1991 as Python 0.9.0.[35] Python 2.0 was released in 2000 and introduced new features such as list comprehensions, cycle-detecting garbage collection, reference counting, and Unicode support. Python 3.0, released in 2008, was a major revision that is not completely backward-compatible with earlier versions. Python 2 was discontinued with version 2.7.18 in 2020.[36]\n",
    "\n",
    "Python consistently ranks as one of the most popular programming languagesc\"\"\""
   ]
  },
  {
   "cell_type": "code",
   "execution_count": 127,
   "id": "19e5ca4b",
   "metadata": {},
   "outputs": [],
   "source": [
    "l=txt.split(\" \")"
   ]
  },
  {
   "cell_type": "code",
   "execution_count": 128,
   "id": "de950f19",
   "metadata": {},
   "outputs": [
    {
     "data": {
      "text/plain": [
       "['Python',\n",
       " 'is',\n",
       " 'a',\n",
       " 'high-level,',\n",
       " 'interpreted,',\n",
       " 'general-purpose',\n",
       " 'programming',\n",
       " 'language.',\n",
       " 'Its',\n",
       " 'design',\n",
       " 'philosophy',\n",
       " 'emphasizes',\n",
       " 'code',\n",
       " 'readability',\n",
       " 'with',\n",
       " 'the',\n",
       " 'use',\n",
       " 'of',\n",
       " 'significant',\n",
       " 'indentation.[32]\\n\\nPython',\n",
       " 'is',\n",
       " 'dynamically-typed',\n",
       " 'and',\n",
       " 'garbage-collected.',\n",
       " 'It',\n",
       " 'supports',\n",
       " 'multiple',\n",
       " 'programming',\n",
       " 'paradigms,',\n",
       " 'including',\n",
       " 'structured',\n",
       " '(particularly',\n",
       " 'procedural),',\n",
       " 'object-oriented',\n",
       " 'and',\n",
       " 'functional',\n",
       " 'programming.',\n",
       " 'It',\n",
       " 'is',\n",
       " 'often',\n",
       " 'described',\n",
       " 'as',\n",
       " 'a',\n",
       " '\"batteries',\n",
       " 'included\"',\n",
       " 'language',\n",
       " 'due',\n",
       " 'to',\n",
       " 'its',\n",
       " 'comprehensive',\n",
       " 'standard',\n",
       " 'library.[33][34]\\n\\nGuido',\n",
       " 'van',\n",
       " 'Rossum',\n",
       " 'began',\n",
       " 'working',\n",
       " 'on',\n",
       " 'Python',\n",
       " 'in',\n",
       " 'the',\n",
       " 'late',\n",
       " '1980s',\n",
       " 'as',\n",
       " 'a',\n",
       " 'successor',\n",
       " 'to',\n",
       " 'the',\n",
       " 'ABC',\n",
       " 'programming',\n",
       " 'language',\n",
       " 'and',\n",
       " 'first',\n",
       " 'released',\n",
       " 'it',\n",
       " 'in',\n",
       " '1991',\n",
       " 'as',\n",
       " 'Python',\n",
       " '0.9.0.[35]',\n",
       " 'Python',\n",
       " '2.0',\n",
       " 'was',\n",
       " 'released',\n",
       " 'in',\n",
       " '2000',\n",
       " 'and',\n",
       " 'introduced',\n",
       " 'new',\n",
       " 'features',\n",
       " 'such',\n",
       " 'as',\n",
       " 'list',\n",
       " 'comprehensions,',\n",
       " 'cycle-detecting',\n",
       " 'garbage',\n",
       " 'collection,',\n",
       " 'reference',\n",
       " 'counting,',\n",
       " 'and',\n",
       " 'Unicode',\n",
       " 'support.',\n",
       " 'Python',\n",
       " '3.0,',\n",
       " 'released',\n",
       " 'in',\n",
       " '2008,',\n",
       " 'was',\n",
       " 'a',\n",
       " 'major',\n",
       " 'revision',\n",
       " 'that',\n",
       " 'is',\n",
       " 'not',\n",
       " 'completely',\n",
       " 'backward-compatible',\n",
       " 'with',\n",
       " 'earlier',\n",
       " 'versions.',\n",
       " 'Python',\n",
       " '2',\n",
       " 'was',\n",
       " 'discontinued',\n",
       " 'with',\n",
       " 'version',\n",
       " '2.7.18',\n",
       " 'in',\n",
       " '2020.[36]\\n\\nPython',\n",
       " 'consistently',\n",
       " 'ranks',\n",
       " 'as',\n",
       " 'one',\n",
       " 'of',\n",
       " 'the',\n",
       " 'most',\n",
       " 'popular',\n",
       " 'programming',\n",
       " 'languagesc']"
      ]
     },
     "execution_count": 128,
     "metadata": {},
     "output_type": "execute_result"
    }
   ],
   "source": [
    "l"
   ]
  },
  {
   "cell_type": "code",
   "execution_count": 130,
   "id": "c4754a94",
   "metadata": {},
   "outputs": [
    {
     "name": "stdout",
     "output_type": "stream",
     "text": [
      "oiieeieeeeeauooaiauaeIeiiooeaieoeaaiiiuoiiiaieaiooiaiaeaaaeoeeIuouioaiaaiiuiuueaiuaoeuaoeoieeauioaoaiIioeeieaaeieiueauauioeeiaaiauiaoueaoiooiaaueoAoaiauaaieeaeiiaooaeeaeiaioueeeaueuaioeeioeeeiaaoeioeeeouiaUiouooeeaeiaaoeiioaiooeeaaoaiieaieeiooaioiueieioiooieaaoooouaoaiauae\n"
     ]
    }
   ],
   "source": [
    "i=0\n",
    "final=\"\"\n",
    "while len(l)>i:\n",
    "    z=l[i]\n",
    "\n",
    "    y=0\n",
    "    newtext = \"\"\n",
    "    q= ['a', 'e', 'i', 'o', 'u', 'A', 'E', 'I', 'O', 'U']\n",
    "    while len(z)-1>y:\n",
    "        \n",
    "\n",
    "        if z[y]  in q :\n",
    "\n",
    "            newtext = newtext + z[y]\n",
    "            \n",
    "\n",
    "\n",
    "\n",
    "\n",
    "        y+=1\n",
    "    final=final+newtext\n",
    "    i+=1\n",
    "print(final)"
   ]
  },
  {
   "cell_type": "code",
   "execution_count": 261,
   "id": "c6de62c7",
   "metadata": {},
   "outputs": [
    {
     "name": "stdout",
     "output_type": "stream",
     "text": [
      "all the even number between 1- 1000\n",
      "2 ,  4 ,  6 ,  8 ,  10 ,  12 ,  14 ,  16 ,  18 ,  20 ,  22 ,  24 ,  26 ,  28 ,  30 ,  32 ,  34 ,  36 ,  38 ,  40 ,  42 ,  44 ,  46 ,  48 ,  50 ,  52 ,  54 ,  56 ,  58 ,  60 ,  62 ,  64 ,  66 ,  68 ,  70 ,  72 ,  74 ,  76 ,  78 ,  80 ,  82 ,  84 ,  86 ,  88 ,  90 ,  92 ,  94 ,  96 ,  98 ,  100 ,  102 ,  104 ,  106 ,  108 ,  110 ,  112 ,  114 ,  116 ,  118 ,  120 ,  122 ,  124 ,  126 ,  128 ,  130 ,  132 ,  134 ,  136 ,  138 ,  140 ,  142 ,  144 ,  146 ,  148 ,  150 ,  152 ,  154 ,  156 ,  158 ,  160 ,  162 ,  164 ,  166 ,  168 ,  170 ,  172 ,  174 ,  176 ,  178 ,  180 ,  182 ,  184 ,  186 ,  188 ,  190 ,  192 ,  194 ,  196 ,  198 ,  200 ,  202 ,  204 ,  206 ,  208 ,  210 ,  212 ,  214 ,  216 ,  218 ,  220 ,  222 ,  224 ,  226 ,  228 ,  230 ,  232 ,  234 ,  236 ,  238 ,  240 ,  242 ,  244 ,  246 ,  248 ,  250 ,  252 ,  254 ,  256 ,  258 ,  260 ,  262 ,  264 ,  266 ,  268 ,  270 ,  272 ,  274 ,  276 ,  278 ,  280 ,  282 ,  284 ,  286 ,  288 ,  290 ,  292 ,  294 ,  296 ,  298 ,  300 ,  302 ,  304 ,  306 ,  308 ,  310 ,  312 ,  314 ,  316 ,  318 ,  320 ,  322 ,  324 ,  326 ,  328 ,  330 ,  332 ,  334 ,  336 ,  338 ,  340 ,  342 ,  344 ,  346 ,  348 ,  350 ,  352 ,  354 ,  356 ,  358 ,  360 ,  362 ,  364 ,  366 ,  368 ,  370 ,  372 ,  374 ,  376 ,  378 ,  380 ,  382 ,  384 ,  386 ,  388 ,  390 ,  392 ,  394 ,  396 ,  398 ,  400 ,  402 ,  404 ,  406 ,  408 ,  410 ,  412 ,  414 ,  416 ,  418 ,  420 ,  422 ,  424 ,  426 ,  428 ,  430 ,  432 ,  434 ,  436 ,  438 ,  440 ,  442 ,  444 ,  446 ,  448 ,  450 ,  452 ,  454 ,  456 ,  458 ,  460 ,  462 ,  464 ,  466 ,  468 ,  470 ,  472 ,  474 ,  476 ,  478 ,  480 ,  482 ,  484 ,  486 ,  488 ,  490 ,  492 ,  494 ,  496 ,  498 ,  500 ,  502 ,  504 ,  506 ,  508 ,  510 ,  512 ,  514 ,  516 ,  518 ,  520 ,  522 ,  524 ,  526 ,  528 ,  530 ,  532 ,  534 ,  536 ,  538 ,  540 ,  542 ,  544 ,  546 ,  548 ,  550 ,  552 ,  554 ,  556 ,  558 ,  560 ,  562 ,  564 ,  566 ,  568 ,  570 ,  572 ,  574 ,  576 ,  578 ,  580 ,  582 ,  584 ,  586 ,  588 ,  590 ,  592 ,  594 ,  596 ,  598 ,  600 ,  602 ,  604 ,  606 ,  608 ,  610 ,  612 ,  614 ,  616 ,  618 ,  620 ,  622 ,  624 ,  626 ,  628 ,  630 ,  632 ,  634 ,  636 ,  638 ,  640 ,  642 ,  644 ,  646 ,  648 ,  650 ,  652 ,  654 ,  656 ,  658 ,  660 ,  662 ,  664 ,  666 ,  668 ,  670 ,  672 ,  674 ,  676 ,  678 ,  680 ,  682 ,  684 ,  686 ,  688 ,  690 ,  692 ,  694 ,  696 ,  698 ,  700 ,  702 ,  704 ,  706 ,  708 ,  710 ,  712 ,  714 ,  716 ,  718 ,  720 ,  722 ,  724 ,  726 ,  728 ,  730 ,  732 ,  734 ,  736 ,  738 ,  740 ,  742 ,  744 ,  746 ,  748 ,  750 ,  752 ,  754 ,  756 ,  758 ,  760 ,  762 ,  764 ,  766 ,  768 ,  770 ,  772 ,  774 ,  776 ,  778 ,  780 ,  782 ,  784 ,  786 ,  788 ,  790 ,  792 ,  794 ,  796 ,  798 ,  800 ,  802 ,  804 ,  806 ,  808 ,  810 ,  812 ,  814 ,  816 ,  818 ,  820 ,  822 ,  824 ,  826 ,  828 ,  830 ,  832 ,  834 ,  836 ,  838 ,  840 ,  842 ,  844 ,  846 ,  848 ,  850 ,  852 ,  854 ,  856 ,  858 ,  860 ,  862 ,  864 ,  866 ,  868 ,  870 ,  872 ,  874 ,  876 ,  878 ,  880 ,  882 ,  884 ,  886 ,  888 ,  890 ,  892 ,  894 ,  896 ,  898 ,  900 ,  902 ,  904 ,  906 ,  908 ,  910 ,  912 ,  914 ,  916 ,  918 ,  920 ,  922 ,  924 ,  926 ,  928 ,  930 ,  932 ,  934 ,  936 ,  938 ,  940 ,  942 ,  944 ,  946 ,  948 ,  950 ,  952 ,  954 ,  956 ,  958 ,  960 ,  962 ,  964 ,  966 ,  968 ,  970 ,  972 ,  974 ,  976 ,  978 ,  980 ,  982 ,  984 ,  986 ,  988 ,  990 ,  992 ,  994 ,  996 ,  998 ,  1000 ,  "
     ]
    }
   ],
   "source": [
    "#q5 : Try to generate all the even number between 1- 1000\n",
    "i=0\n",
    "print(\"all the even number between 1- 1000\")\n",
    "while 1000>i:\n",
    "    i+=2\n",
    "    print(i,end =\" ,  \")\n",
    "    \n",
    "    "
   ]
  },
  {
   "cell_type": "code",
   "execution_count": 267,
   "id": "060be1c3",
   "metadata": {},
   "outputs": [],
   "source": [
    "#q6 : Define a function for all the above problem statememnt  . \n",
    "def t1(b):\n",
    "    a=1\n",
    "    z=1\n",
    "    print (\"the pattern\")\n",
    "    print(\"\\n\")\n",
    "    while a<=b:\n",
    "        c=0\n",
    "        while z>c:\n",
    "            print(\"*\",end=\" \")\n",
    "            c+=1\n",
    "        print()   \n",
    "        a+=1\n",
    "        z=a  \n",
    "def t2():\n",
    "    print(\"\\n\")\n",
    "    print(\"second pattern\")\n",
    "    print(\"\\n\")\n",
    "    a1 = \"ABCDEFGHIJKLMNOPQRSTUVWXYZ\"\n",
    "    i=1\n",
    "    a=7\n",
    "    print(a1[0])\n",
    "    while i<a:\n",
    "\n",
    "        print(a1[i],end =\" \")\n",
    "        y=i\n",
    "        d=0\n",
    "        c=i\n",
    "        add=6\n",
    "\n",
    "        while y>d: \n",
    "            c=c+add\n",
    "            if len(a1)>c:\n",
    "                print(a1[c],end=\" \")\n",
    "            d+=1\n",
    "            add-=1\n",
    "        print()\n",
    "        i+=1\n",
    "\n",
    "def t3():\n",
    "    a=[]\n",
    "    i=40\n",
    "    while 400>=i:\n",
    "        if i%3==0:\n",
    "            a.append(i)\n",
    "        i+=1\n",
    "    print(\"\\n\")\n",
    "    print(\"number divisible by 3 in between a range of 40 - 400\")\n",
    "    print(\"\\n\")\n",
    "    print(*a,sep=\" , \")\n",
    "    len(a)\n",
    "    \n",
    "def t4(txt):\n",
    "    print(\"\\n\")\n",
    "    print(\" filter out all the vowels\")\n",
    "    print(\"\\n\")\n",
    "    l=txt.split(\" \")\n",
    "    i=0\n",
    "    final=\"\"\n",
    "    while len(l)>i:\n",
    "        z=l[i]\n",
    "\n",
    "        y=0\n",
    "        newtext = \"\"\n",
    "        q= ['a', 'e', 'i', 'o', 'u', 'A', 'E', 'I', 'O', 'U']\n",
    "        while len(z)-1>y:\n",
    "\n",
    "\n",
    "            if z[y] not in q :\n",
    "\n",
    "                newtext = newtext + z[y]\n",
    "\n",
    "\n",
    "\n",
    "\n",
    "\n",
    "            y+=1\n",
    "        final=final+newtext\n",
    "        i+=1\n",
    "    return(final)\n",
    "\n",
    "def t5():\n",
    "    print(\"all the even number between 1- 1000\")\n",
    "    print(\"\")\n",
    "    i=0\n",
    "    while 1000>i:\n",
    "        i+=2\n",
    "        print(i,end =\" ,  \")"
   ]
  },
  {
   "cell_type": "code",
   "execution_count": 268,
   "id": "46fa3c27",
   "metadata": {},
   "outputs": [
    {
     "name": "stdout",
     "output_type": "stream",
     "text": [
      "the pattern\n",
      "\n",
      "\n",
      "* \n",
      "* * \n",
      "* * * \n",
      "* * * * \n",
      "* * * * * \n",
      "* * * * * * \n",
      "* * * * * * * \n",
      "* * * * * * * * \n",
      "* * * * * * * * * \n",
      "\n",
      "\n",
      "second pattern\n",
      "\n",
      "\n",
      "A\n",
      "B H \n",
      "C I N \n",
      "D J O S \n",
      "E K P T W \n",
      "F L Q U X Z \n",
      "G M R V Y \n",
      "\n",
      "\n",
      "number divisible by 3 in between a range of 40 - 400\n",
      "\n",
      "\n",
      "42 , 45 , 48 , 51 , 54 , 57 , 60 , 63 , 66 , 69 , 72 , 75 , 78 , 81 , 84 , 87 , 90 , 93 , 96 , 99 , 102 , 105 , 108 , 111 , 114 , 117 , 120 , 123 , 126 , 129 , 132 , 135 , 138 , 141 , 144 , 147 , 150 , 153 , 156 , 159 , 162 , 165 , 168 , 171 , 174 , 177 , 180 , 183 , 186 , 189 , 192 , 195 , 198 , 201 , 204 , 207 , 210 , 213 , 216 , 219 , 222 , 225 , 228 , 231 , 234 , 237 , 240 , 243 , 246 , 249 , 252 , 255 , 258 , 261 , 264 , 267 , 270 , 273 , 276 , 279 , 282 , 285 , 288 , 291 , 294 , 297 , 300 , 303 , 306 , 309 , 312 , 315 , 318 , 321 , 324 , 327 , 330 , 333 , 336 , 339 , 342 , 345 , 348 , 351 , 354 , 357 , 360 , 363 , 366 , 369 , 372 , 375 , 378 , 381 , 384 , 387 , 390 , 393 , 396 , 399\n",
      "\n",
      "\n",
      " filter out all the vowels\n",
      "\n",
      "\n",
      "Pythhgh-lvlntrprtdgnrl-prpsprgrmmnlnggtdsgphlsphmphszcdrdbltwtthssgnfcnndnttn.[32]\n",
      "\n",
      "Pythdynmclly-typngrbg-cllctdspprtmltplprgrmmnprdgmsncldnstrctr(prtclrlprcdrl)bjct-rntnfnctnprgrmmngftdscrb\"bttrnclddlnggdttcmprhnsvstndrlbrry.[33][34]\n",
      "\n",
      "GdvRssbgwrknPyththlt1980sccsstthBprgrmmnlnggnfrsrls199Pyth0.9.0.[35Pyth2.wrls200nntrdcnftrsclscmprhnsnscycl-dtctngrbgcllctnrfrnccntngnncdspprtPyth3.0rls2008wmjrvsthncmpltlbckwrd-cmptblwtrlvrsnsPythwdscntnwtvrs2.7.12020.[36]\n",
      "\n",
      "Pythcnsstntlrnknthmspplprgrmmnlnggs\n",
      "\n",
      "\n",
      "all the even number between 1- 1000\n",
      "\n",
      "2 ,  4 ,  6 ,  8 ,  10 ,  12 ,  14 ,  16 ,  18 ,  20 ,  22 ,  24 ,  26 ,  28 ,  30 ,  32 ,  34 ,  36 ,  38 ,  40 ,  42 ,  44 ,  46 ,  48 ,  50 ,  52 ,  54 ,  56 ,  58 ,  60 ,  62 ,  64 ,  66 ,  68 ,  70 ,  72 ,  74 ,  76 ,  78 ,  80 ,  82 ,  84 ,  86 ,  88 ,  90 ,  92 ,  94 ,  96 ,  98 ,  100 ,  102 ,  104 ,  106 ,  108 ,  110 ,  112 ,  114 ,  116 ,  118 ,  120 ,  122 ,  124 ,  126 ,  128 ,  130 ,  132 ,  134 ,  136 ,  138 ,  140 ,  142 ,  144 ,  146 ,  148 ,  150 ,  152 ,  154 ,  156 ,  158 ,  160 ,  162 ,  164 ,  166 ,  168 ,  170 ,  172 ,  174 ,  176 ,  178 ,  180 ,  182 ,  184 ,  186 ,  188 ,  190 ,  192 ,  194 ,  196 ,  198 ,  200 ,  202 ,  204 ,  206 ,  208 ,  210 ,  212 ,  214 ,  216 ,  218 ,  220 ,  222 ,  224 ,  226 ,  228 ,  230 ,  232 ,  234 ,  236 ,  238 ,  240 ,  242 ,  244 ,  246 ,  248 ,  250 ,  252 ,  254 ,  256 ,  258 ,  260 ,  262 ,  264 ,  266 ,  268 ,  270 ,  272 ,  274 ,  276 ,  278 ,  280 ,  282 ,  284 ,  286 ,  288 ,  290 ,  292 ,  294 ,  296 ,  298 ,  300 ,  302 ,  304 ,  306 ,  308 ,  310 ,  312 ,  314 ,  316 ,  318 ,  320 ,  322 ,  324 ,  326 ,  328 ,  330 ,  332 ,  334 ,  336 ,  338 ,  340 ,  342 ,  344 ,  346 ,  348 ,  350 ,  352 ,  354 ,  356 ,  358 ,  360 ,  362 ,  364 ,  366 ,  368 ,  370 ,  372 ,  374 ,  376 ,  378 ,  380 ,  382 ,  384 ,  386 ,  388 ,  390 ,  392 ,  394 ,  396 ,  398 ,  400 ,  402 ,  404 ,  406 ,  408 ,  410 ,  412 ,  414 ,  416 ,  418 ,  420 ,  422 ,  424 ,  426 ,  428 ,  430 ,  432 ,  434 ,  436 ,  438 ,  440 ,  442 ,  444 ,  446 ,  448 ,  450 ,  452 ,  454 ,  456 ,  458 ,  460 ,  462 ,  464 ,  466 ,  468 ,  470 ,  472 ,  474 ,  476 ,  478 ,  480 ,  482 ,  484 ,  486 ,  488 ,  490 ,  492 ,  494 ,  496 ,  498 ,  500 ,  502 ,  504 ,  506 ,  508 ,  510 ,  512 ,  514 ,  516 ,  518 ,  520 ,  522 ,  524 ,  526 ,  528 ,  530 ,  532 ,  534 ,  536 ,  538 ,  540 ,  542 ,  544 ,  546 ,  548 ,  550 ,  552 ,  554 ,  556 ,  558 ,  560 ,  562 ,  564 ,  566 ,  568 ,  570 ,  572 ,  574 ,  576 ,  578 ,  580 ,  582 ,  584 ,  586 ,  588 ,  590 ,  592 ,  594 ,  596 ,  598 ,  600 ,  602 ,  604 ,  606 ,  608 ,  610 ,  612 ,  614 ,  616 ,  618 ,  620 ,  622 ,  624 ,  626 ,  628 ,  630 ,  632 ,  634 ,  636 ,  638 ,  640 ,  642 ,  644 ,  646 ,  648 ,  650 ,  652 ,  654 ,  656 ,  658 ,  660 ,  662 ,  664 ,  666 ,  668 ,  670 ,  672 ,  674 ,  676 ,  678 ,  680 ,  682 ,  684 ,  686 ,  688 ,  690 ,  692 ,  694 ,  696 ,  698 ,  700 ,  702 ,  704 ,  706 ,  708 ,  710 ,  712 ,  714 ,  716 ,  718 ,  720 ,  722 ,  724 ,  726 ,  728 ,  730 ,  732 ,  734 ,  736 ,  738 ,  740 ,  742 ,  744 ,  746 ,  748 ,  750 ,  752 ,  754 ,  756 ,  758 ,  760 ,  762 ,  764 ,  766 ,  768 ,  770 ,  772 ,  774 ,  776 ,  778 ,  780 ,  782 ,  784 ,  786 ,  788 ,  790 ,  792 ,  794 ,  796 ,  798 ,  800 ,  802 ,  804 ,  806 ,  808 ,  810 ,  812 ,  814 ,  816 ,  818 ,  820 ,  822 ,  824 ,  826 ,  828 ,  830 ,  832 ,  834 ,  836 ,  838 ,  840 ,  842 ,  844 ,  846 ,  848 ,  850 ,  852 ,  854 ,  856 ,  858 ,  860 ,  862 ,  864 ,  866 ,  868 ,  870 ,  872 ,  874 ,  876 ,  878 ,  880 ,  882 ,  884 ,  886 ,  888 ,  890 ,  892 ,  894 ,  896 ,  898 ,  900 ,  902 ,  904 ,  906 ,  908 ,  910 ,  912 ,  914 ,  916 ,  918 ,  920 ,  922 ,  924 ,  926 ,  928 ,  930 ,  932 ,  934 ,  936 ,  938 ,  940 ,  942 ,  944 ,  946 ,  948 ,  950 ,  952 ,  954 ,  956 ,  958 ,  960 ,  962 ,  964 ,  966 ,  968 ,  970 ,  972 ,  974 ,  976 ,  978 ,  980 ,  982 ,  984 ,  986 ,  988 ,  990 ,  992 ,  994 ,  996 ,  998 ,  1000 ,  "
     ]
    }
   ],
   "source": [
    "t1(9)\n",
    "t2()\n",
    "t3()\n",
    "txt=\"\"\"Python is a high-level, interpreted, general-purpose programming language. Its design philosophy emphasizes code readability with the use of significant indentation.[32]\n",
    "\n",
    "Python is dynamically-typed and garbage-collected. It supports multiple programming paradigms, including structured (particularly procedural), object-oriented and functional programming. It is often described as a \"batteries included\" language due to its comprehensive standard library.[33][34]\n",
    "\n",
    "Guido van Rossum began working on Python in the late 1980s as a successor to the ABC programming language and first released it in 1991 as Python 0.9.0.[35] Python 2.0 was released in 2000 and introduced new features such as list comprehensions, cycle-detecting garbage collection, reference counting, and Unicode support. Python 3.0, released in 2008, was a major revision that is not completely backward-compatible with earlier versions. Python 2 was discontinued with version 2.7.18 in 2020.[36]\n",
    "\n",
    "Python consistently ranks as one of the most popular programming languagesc\"\"\"\n",
    "\n",
    "print(t4(txt))\n",
    "print(\"\\n\")\n",
    "t5()"
   ]
  },
  {
   "cell_type": "code",
   "execution_count": 140,
   "id": "fea62d22",
   "metadata": {},
   "outputs": [
    {
     "data": {
      "text/plain": [
       "datetime.time(0, 34, 35, 375902)"
      ]
     },
     "execution_count": 140,
     "metadata": {},
     "output_type": "execute_result"
    }
   ],
   "source": [
    "#q7 : write a code to get a time of your system \n",
    "import datetime\n",
    "datetime.datetime.now().time()"
   ]
  },
  {
   "cell_type": "code",
   "execution_count": 141,
   "id": "11b8818a",
   "metadata": {},
   "outputs": [
    {
     "data": {
      "text/plain": [
       "datetime.date(2022, 8, 15)"
      ]
     },
     "execution_count": 141,
     "metadata": {},
     "output_type": "execute_result"
    }
   ],
   "source": [
    "#q8 : Write a code to fetch date form your system \n",
    "\n",
    "datetime.date.today()"
   ]
  },
  {
   "cell_type": "code",
   "execution_count": null,
   "id": "03cff552",
   "metadata": {},
   "outputs": [],
   "source": [
    "#q9 : Write a code to send a mail to your friend \n",
    "import smtplib \n",
    "try: \n",
    "    #Create your SMTP session \n",
    "    smtp = smtplib.SMTP('smtp.gmail.com', 587) \n",
    "\n",
    "   #Use TLS to add security \n",
    "    smtp.starttls() \n",
    "\n",
    "    #User Authentication \n",
    "    smtp.login(\"sender_email_id\",\"sender_email_id_password\")\n",
    "\n",
    "    #Defining The Message \n",
    "    message = \"Message_you_need_to_send\" \n",
    "\n",
    "    #Sending the Email\n",
    "    smtp.sendmail(\"sender_email_id\", \"receiyer_email_id\",message) \n",
    "\n",
    "    #Terminating the session \n",
    "    smtp.quit() \n",
    "    print (\"Email sent successfully!\") \n",
    "\n",
    "except Exception as ex: \n",
    "    print(\"Something went wrong....\",ex)"
   ]
  },
  {
   "cell_type": "code",
   "execution_count": null,
   "id": "650743c0",
   "metadata": {},
   "outputs": [],
   "source": [
    "#q10 : write a code to trigger alarm for you at scheduled time \n",
    "\n",
    "import time\n",
    "import playsound\n",
    "\n",
    "alarm_time = '12:59'\n",
    "if time.asctime()[11:-8] == alarm_time :\n",
    "    absolute_path = os.path.abspath(\"texttovoice.mp3\")\n",
    "    print(absolute_path)\n",
    "    playsound.playsound(absolute_path)\n",
    "\n"
   ]
  },
  {
   "cell_type": "code",
   "execution_count": 159,
   "id": "0ad0789f",
   "metadata": {},
   "outputs": [
    {
     "name": "stdout",
     "output_type": "stream",
     "text": [
      "your ip address is  192.168.0.114\n",
      "your computer name is  DESKTOP-TC481I5\n"
     ]
    }
   ],
   "source": [
    "#q11 : write a code to check ip address of your system \n",
    "\n",
    "import socket\n",
    "host= socket.gethostname()\n",
    "ip = socket.gethostbyname(host)\n",
    "print(\"your ip address is \", ip)\n",
    "print(\"your computer name is \", host)"
   ]
  },
  {
   "cell_type": "code",
   "execution_count": 161,
   "id": "35b3ca99",
   "metadata": {},
   "outputs": [
    {
     "name": "stdout",
     "output_type": "stream",
     "text": [
      "Collecting winapps\n",
      "  Downloading winapps-0.2.0-py3-none-any.whl (9.1 kB)\n",
      "Collecting dataclasses<0.7.0,>=0.6.0\n",
      "  Downloading dataclasses-0.6-py3-none-any.whl (14 kB)\n",
      "Collecting plumbum<2.0,>=1.6\n",
      "  Downloading plumbum-1.7.2-py2.py3-none-any.whl (117 kB)\n",
      "Requirement already satisfied: pywin32 in c:\\users\\hp\\anaconda3\\envs\\gpu\\lib\\site-packages (from plumbum<2.0,>=1.6->winapps) (304)Note: you may need to restart the kernel to use updated packages.\n",
      "Installing collected packages: plumbum, dataclasses, winapps\n",
      "  Attempting uninstall: dataclasses\n",
      "    Found existing installation: dataclasses 0.8\n",
      "\n",
      "    Uninstalling dataclasses-0.8:\n",
      "      Successfully uninstalled dataclasses-0.8\n",
      "Successfully installed dataclasses-0.6 plumbum-1.7.2 winapps-0.2.0\n"
     ]
    }
   ],
   "source": [
    "pip install winapps"
   ]
  },
  {
   "cell_type": "code",
   "execution_count": 162,
   "id": "778aa52b",
   "metadata": {},
   "outputs": [
    {
     "data": {
      "text/plain": [
       "[InstalledApplication(name='7-Zip 19.00 (x64)', version='19.00', install_date=None, install_location=WindowsPath('C:/Program Files/7-Zip'), install_source=None, modify_path=None, publisher='Igor Pavlov', uninstall_string='C:\\\\Program Files\\\\7-Zip\\\\Uninstall.exe'),\n",
       " InstalledApplication(name='Boris FX Sapphire Plug-ins 2021.0 for After Effects and Compatible Products', version='14.000', install_date=datetime.date(2021, 8, 25), install_location=WindowsPath('C:/Program Files/GenArts/SapphireAE'), install_source=None, modify_path=None, publisher='Boris FX, Inc.', uninstall_string='\"C:\\\\Program Files\\\\GenArts\\\\SapphireAE\\\\unins000.exe\"'),\n",
       " InstalledApplication(name='Git', version='2.37.0', install_date=datetime.date(2022, 7, 5), install_location=WindowsPath('C:/Program Files/Git'), install_source=None, modify_path=None, publisher='The Git Development Community', uninstall_string='\"C:\\\\Program Files\\\\Git\\\\unins001.exe\"'),\n",
       " InstalledApplication(name='Ignite Pro', version='3.1.8110', install_date=None, install_location=WindowsPath('C:/Program Files/Ignite Pro'), install_source=None, modify_path=None, publisher='FXhome', uninstall_string='C:\\\\ProgramData\\\\Caphyon\\\\Advanced Installer\\\\{55ACDDE4-981E-4C57-A1AD-71A47DE8E462}\\\\Ignite Pro.exe /i {55ACDDE4-981E-4C57-A1AD-71A47DE8E462}'),\n",
       " InstalledApplication(name='Magic Bullet Suite', version=None, install_date=datetime.date(2021, 2, 1), install_location=None, install_source=None, modify_path=None, publisher='Red Giant LLC', uninstall_string='\"C:\\\\ProgramData\\\\Red Giant\\\\uninstall\\\\uninstall-com.redgiant.magicbullet_v13.0.17.bat\"'),\n",
       " InstalledApplication(name='NewBlue TotalFX AEX', version='5.0.0.170317', install_date=datetime.date(2021, 8, 25), install_location=WindowsPath('C:/Program Files/NewBlueFX'), install_source=None, modify_path=None, publisher='Team V.R', uninstall_string='\"C:\\\\Program Files\\\\NewBlueFX\\\\uninstallers\\\\unins001.exe\"'),\n",
       " InstalledApplication(name='ReelSmart Motion Blur v6 for After Effects and Premiere Pro', version='6.0.1', install_date=datetime.date(2021, 4, 9), install_location=WindowsPath('C:/Program Files/REVisionEffects/RSMB6AE'), install_source=None, modify_path=None, publisher='RE:Vision Effects', uninstall_string='C:\\\\Program Files\\\\REVisionEffects\\\\RSMB6AE\\\\uninstall\\\\RSMB6AE_uninstall.exe'),\n",
       " InstalledApplication(name='Trapcode Suite', version=None, install_date=datetime.date(2021, 2, 3), install_location=None, install_source=None, modify_path=None, publisher='Red Giant LLC', uninstall_string='\"C:\\\\ProgramData\\\\Red Giant\\\\uninstall\\\\uninstall-com.redgiant.trapcode_v15.1.1.bat\"'),\n",
       " InstalledApplication(name='Rowbyte TV Distortion 2.0.7 CE', version='2.0.7', install_date=datetime.date(2021, 8, 21), install_location=WindowsPath('C:/Program Files/Adobe/Common/Plug-ins/7.0/MediaCore'), install_source=None, modify_path=None, publisher='Team V.R', uninstall_string='\"C:\\\\ProgramData\\\\RWBYTE\\\\TV Distortion\\\\unins000.exe\"'),\n",
       " InstalledApplication(name='Universe', version=None, install_date=datetime.date(2021, 2, 2), install_location=None, install_source=None, modify_path=None, publisher='Red Giant LLC', uninstall_string='\"C:\\\\ProgramData\\\\Red Giant\\\\uninstall\\\\uninstall-com.redgiant.universe_v3.3.0.bat\"'),\n",
       " InstalledApplication(name='VLC media player', version='3.0.16', install_date=None, install_location=WindowsPath('C:/Program Files/VideoLAN/VLC'), install_source=None, modify_path=None, publisher='VideoLAN', uninstall_string='\"C:\\\\Program Files\\\\VideoLAN\\\\VLC\\\\uninstall.exe\"'),\n",
       " InstalledApplication(name='WinRAR 6.02 (64-bit)', version='6.02.0', install_date=None, install_location=WindowsPath('C:/Program Files/WinRAR'), install_source=None, modify_path=None, publisher='win.rar GmbH', uninstall_string='C:\\\\Program Files\\\\WinRAR\\\\uninstall.exe'),\n",
       " InstalledApplication(name='CST Studio Suite 2021 Student Edition', version='1.0.0', install_date=datetime.date(2022, 5, 3), install_location=WindowsPath('D:/cst studio'), install_source=WindowsPath('C:/Users/HP/AppData/Local/Temp/{05DE28BB-194B-4A03-825E-1BDEFD2FC0E3}'), modify_path='MsiExec.exe /X{002EF1C2-A8E7-4E30-8DEF-45FB0FF2AA7F}', publisher='Dassault Systemes', uninstall_string='MsiExec.exe /X{002EF1C2-A8E7-4E30-8DEF-45FB0FF2AA7F}'),\n",
       " InstalledApplication(name='IIS 10.0 Express', version='10.0.04403', install_date=datetime.date(2021, 6, 8), install_location='', install_source=WindowsPath('C:/ProgramData/Microsoft/VisualStudio/Packages/Microsoft.VisualStudio.IISExpress.Msi,version=16.10.31205.180,chip=x64'), modify_path='MsiExec.exe /X{0307C98E-AE82-4A4F-A950-A72FBD805338}', publisher='Microsoft Corporation', uninstall_string='MsiExec.exe /X{0307C98E-AE82-4A4F-A950-A72FBD805338}'),\n",
       " InstalledApplication(name='Microsoft Build of OpenJDK with Hotspot 11.0.12+7 (x64)', version='11.0.12.7', install_date=datetime.date(2022, 7, 27), install_location=WindowsPath('C:/Program Files/Microsoft/jdk-11.0.12.7-hotspot'), install_source=WindowsPath('C:/ProgramData/Microsoft/VisualStudio/Packages/OpenJDKv11,version=11.0.12.7,chip=x64'), modify_path='MsiExec.exe /I{0D2DCFF8-7746-445B-B643-9E85ABE01173}', publisher='Microsoft', uninstall_string='MsiExec.exe /I{0D2DCFF8-7746-445B-B643-9E85ABE01173}'),\n",
       " InstalledApplication(name='VNC Viewer 6.22.515', version='6.22.515.47347', install_date=datetime.date(2022, 8, 3), install_location='', install_source=WindowsPath('C:/Users/HP/AppData/Local/Temp'), modify_path='MsiExec.exe /I{17CDD7AD-3DFB-42B0-AA24-AB399B77EDA8}', publisher='RealVNC', uninstall_string='MsiExec.exe /I{17CDD7AD-3DFB-42B0-AA24-AB399B77EDA8}'),\n",
       " InstalledApplication(name='Microsoft Visual C++ 2010  x64 Redistributable - 10.0.40219', version='10.0.40219', install_date=datetime.date(2020, 2, 24), install_location='', install_source=WindowsPath('d:/7028bf931df2187213'), modify_path='MsiExec.exe /X{1D8E6291-B0D5-35EC-8441-6616F567A0F7}', publisher='Microsoft Corporation', uninstall_string='MsiExec.exe /X{1D8E6291-B0D5-35EC-8441-6616F567A0F7}'),\n",
       " InstalledApplication(name='NVIDIA Nsight Systems v2018.3.3', version='18.3.3.31', install_date=datetime.date(2022, 7, 27), install_location='', install_source=WindowsPath('C:/Users/HP/AppData/Local/Temp/CUDA/NsightSystems'), modify_path='MsiExec.exe /X{27969759-4685-4B75-A2D9-569EF76B0F7A}', publisher='NVIDIA Corporation', uninstall_string='MsiExec.exe /X{27969759-4685-4B75-A2D9-569EF76B0F7A}'),\n",
       " InstalledApplication(name='Microsoft Visual C++ 2008 Redistributable - x64 9.0.21022', version='9.0.21022', install_date=datetime.date(2021, 1, 31), install_location='', install_source=WindowsPath('d:/faa5971ca21d6029370e57'), modify_path='MsiExec.exe /X{350AA351-21FA-3270-8B7A-835434E766AD}', publisher='Microsoft Corporation', uninstall_string='MsiExec.exe /X{350AA351-21FA-3270-8B7A-835434E766AD}'),\n",
       " InstalledApplication(name='Boris FX Continuum 2019 Plug-ins for Adobe and Compatible Products', version='12.0.0', install_date=datetime.date(2021, 3, 8), install_location=WindowsPath('D:/ContinuumAE'), install_source=None, modify_path=None, publisher='Boris FX, Inc.', uninstall_string='\"D:\\\\ContinuumAE\\\\unins000.exe\"'),\n",
       " InstalledApplication(name='NVIDIA Nsight Visual Studio Edition 2020.3.1.21012', version='20.3.1.21012', install_date=datetime.date(2021, 3, 22), install_location='', install_source=WindowsPath('C:/Users/HP/AppData/Local/Temp/CUDA/nsight_vse/nsight_vse'), modify_path='MsiExec.exe /X{52E1BC67-764B-4A86-B794-3BDBA8E4E885}', publisher='NVIDIA Corporation', uninstall_string='MsiExec.exe /X{52E1BC67-764B-4A86-B794-3BDBA8E4E885}'),\n",
       " InstalledApplication(name='Bonjour', version='3.1.0.1', install_date=datetime.date(2021, 1, 15), install_location=WindowsPath('C:/Program Files (x86)/Bonjour'), install_source=WindowsPath('C:/Program Files (x86)/Apowersoft/ApowerMirror'), modify_path='MsiExec.exe /X{56DDDFB8-7F79-4480-89D5-25E1F52AB28F}', publisher='Apple Inc.', uninstall_string='MsiExec.exe /X{56DDDFB8-7F79-4480-89D5-25E1F52AB28F}'),\n",
       " InstalledApplication(name='Microsoft System CLR Types for SQL Server 2019', version='15.0.2000.5', install_date=datetime.date(2022, 7, 27), install_location='', install_source=WindowsPath('C:/ProgramData/Microsoft/VisualStudio/Packages/sqlsysclrtypes,version=17.0.62204.1020,chip=x64,language=en-US'), modify_path='MsiExec.exe /I{5BC7E9EB-13E8-45DB-8A60-F2481FEB4595}', publisher='Microsoft Corporation', uninstall_string='MsiExec.exe /I{5BC7E9EB-13E8-45DB-8A60-F2481FEB4595}'),\n",
       " InstalledApplication(name='Windows PC Health Check', version='3.6.2204.08001', install_date=datetime.date(2022, 4, 25), install_location='', install_source=WindowsPath('C:/WINDOWS/SoftwareDistribution/Download/2fda1c4d47efea89e1c8b0448ddf43c6/img'), modify_path='MsiExec.exe /X{6798C408-2636-448C-8AC6-F4E341102D27}', publisher='Microsoft Corporation', uninstall_string='MsiExec.exe /X{6798C408-2636-448C-8AC6-F4E341102D27}'),\n",
       " InstalledApplication(name='Microsoft Update Health Tools', version='4.67.0.0', install_date=datetime.date(2022, 7, 9), install_location='', install_source=WindowsPath('C:/WINDOWS/TEMP/1DBD614D-DB1D-4FE0-9C8F-F35D6747DD28'), modify_path='MsiExec.exe /X{6A2A8076-135F-4F55-BB02-DED67C8C6934}', publisher='Microsoft Corporation', uninstall_string='MsiExec.exe /X{6A2A8076-135F-4F55-BB02-DED67C8C6934}'),\n",
       " InstalledApplication(name='Microsoft Visual Studio Installer', version='3.2.2159.37022', install_date=datetime.date(2022, 7, 13), install_location=WindowsPath('\"C:/Program Files (x86)/Microsoft Visual Studio/Installer\"'), install_source=None, modify_path='\"C:\\\\Program Files (x86)\\\\Microsoft Visual Studio\\\\Installer\\\\setup.exe\"', publisher='Microsoft Corporation', uninstall_string='\"C:\\\\Program Files (x86)\\\\Microsoft Visual Studio\\\\Installer\\\\setup.exe\" /uninstall'),\n",
       " InstalledApplication(name='NVIDIA Nsight Systems 2020.4.3', version='20.4.3.7', install_date=datetime.date(2021, 3, 22), install_location='', install_source=WindowsPath('C:/Users/HP/AppData/Local/Temp/CUDA/nsight_systems/nsight_systems'), modify_path='MsiExec.exe /X{8A00392B-A561-4D04-990C-4D1741A5CDDE}', publisher='NVIDIA Corporation', uninstall_string='MsiExec.exe /X{8A00392B-A561-4D04-990C-4D1741A5CDDE}'),\n",
       " InstalledApplication(name='Microsoft SQL Server 2016 LocalDB ', version='13.1.4001.0', install_date=datetime.date(2021, 6, 8), install_location='', install_source=WindowsPath('C:/ProgramData/Microsoft/VisualStudio/Packages/sqllocaldb,version=16.0.62105.4180,chip=x64,language=en-US'), modify_path='MsiExec.exe /I{9097BF1A-13A0-4A4A-A1F8-473E2A669863}', publisher='Microsoft Corporation', uninstall_string='MsiExec.exe /I{9097BF1A-13A0-4A4A-A1F8-473E2A669863}'),\n",
       " InstalledApplication(name='NVIDIA Nsight Compute v2019.1', version='19.1.0.0', install_date=datetime.date(2022, 7, 27), install_location='', install_source=WindowsPath('C:/Users/HP/AppData/Local/Temp/CUDA/NsightCompute'), modify_path='MsiExec.exe /X{A6575507-1758-44F6-B68A-7FB16826550F}', publisher='NVIDIA Corporation', uninstall_string='MsiExec.exe /X{A6575507-1758-44F6-B68A-7FB16826550F}'),\n",
       " InstalledApplication(name='NVIDIA CUDA Development 10.0', version='10.0', install_date=datetime.date(2022, 7, 13), install_location=WindowsPath('C:/Program Files/NVIDIA GPU Computing Toolkit/CUDA/v10.0'), install_source=WindowsPath('C:/Program Files/NVIDIA Corporation/Installer2/CUDADevelopment_10.0.{A2C95940-35E6-4C23-902A-3CEE6C8052AB}'), modify_path='', publisher='NVIDIA Corporation', uninstall_string='\"C:\\\\WINDOWS\\\\SysWOW64\\\\RunDll32.EXE\" \"C:\\\\Program Files\\\\NVIDIA Corporation\\\\Installer2\\\\InstallerCore\\\\NVI2.DLL\",UninstallPackage CUDADevelopment_10.0'),\n",
       " InstalledApplication(name='NVIDIA CUDA Development 10.1', version='10.1', install_date=datetime.date(2022, 7, 27), install_location=WindowsPath('C:/Program Files/NVIDIA GPU Computing Toolkit/CUDA/v10.1'), install_source=WindowsPath('C:/Program Files/NVIDIA Corporation/Installer2/CUDADevelopment_10.1.{5BE54B75-BFF3-4C1C-AB7A-BDFFB54AE426}'), modify_path='', publisher='NVIDIA Corporation', uninstall_string='\"C:\\\\WINDOWS\\\\SysWOW64\\\\RunDll32.EXE\" \"C:\\\\Program Files\\\\NVIDIA Corporation\\\\Installer2\\\\InstallerCore\\\\NVI2.DLL\",UninstallPackage CUDADevelopment_10.1'),\n",
       " InstalledApplication(name='NVIDIA CUDA Development 11.2', version='11.2', install_date=datetime.date(2021, 3, 22), install_location=WindowsPath('C:/Program Files/NVIDIA GPU Computing Toolkit/CUDA/v11.2'), install_source=WindowsPath('C:/Program Files/NVIDIA Corporation/Installer2/CUDADevelopment_11.2.{D9082ACE-F9D3-4869-87BB-D337D28A9EAA}'), modify_path='', publisher='NVIDIA Corporation', uninstall_string='\"C:\\\\WINDOWS\\\\SysWOW64\\\\RunDll32.EXE\" \"C:\\\\Program Files\\\\NVIDIA Corporation\\\\Installer2\\\\InstallerCore\\\\NVI2.DLL\",UninstallPackage CUDADevelopment_11.2'),\n",
       " InstalledApplication(name='NVIDIA CUDA Documentation 10.0', version='10.0', install_date=datetime.date(2022, 7, 13), install_location=WindowsPath('C:/Program Files/NVIDIA GPU Computing Toolkit/CUDA/v10.0'), install_source=WindowsPath('C:/Program Files/NVIDIA Corporation/Installer2/CUDADocument_10.0.{4023CDE2-0A4A-4A55-AAFA-E876F0895BC5}'), modify_path='', publisher='NVIDIA Corporation', uninstall_string='\"C:\\\\WINDOWS\\\\SysWOW64\\\\RunDll32.EXE\" \"C:\\\\Program Files\\\\NVIDIA Corporation\\\\Installer2\\\\InstallerCore\\\\NVI2.DLL\",UninstallPackage CUDADocument_10.0'),\n",
       " InstalledApplication(name='NVIDIA CUDA Documentation 10.1', version='10.1', install_date=datetime.date(2022, 7, 27), install_location=WindowsPath('C:/Program Files/NVIDIA GPU Computing Toolkit/CUDA/v10.1'), install_source=WindowsPath('C:/Program Files/NVIDIA Corporation/Installer2/CUDADocument_10.1.{3753F6BF-6A66-461D-8B74-AA5C4FC3907E}'), modify_path='', publisher='NVIDIA Corporation', uninstall_string='\"C:\\\\WINDOWS\\\\SysWOW64\\\\RunDll32.EXE\" \"C:\\\\Program Files\\\\NVIDIA Corporation\\\\Installer2\\\\InstallerCore\\\\NVI2.DLL\",UninstallPackage CUDADocument_10.1'),\n",
       " InstalledApplication(name='NVIDIA CUDA Documentation 11.2', version='11.2', install_date=datetime.date(2021, 3, 22), install_location=WindowsPath('C:/Program Files/NVIDIA GPU Computing Toolkit/CUDA/v11.2'), install_source=WindowsPath('C:/Program Files/NVIDIA Corporation/Installer2/CUDADocument_11.2.{EE05DD2A-BB51-4823-92C7-E658362AEF31}'), modify_path='', publisher='NVIDIA Corporation', uninstall_string='\"C:\\\\WINDOWS\\\\SysWOW64\\\\RunDll32.EXE\" \"C:\\\\Program Files\\\\NVIDIA Corporation\\\\Installer2\\\\InstallerCore\\\\NVI2.DLL\",UninstallPackage CUDADocument_11.2'),\n",
       " InstalledApplication(name='NVIDIA CUDA Runtime 10.0', version='10.0', install_date=datetime.date(2022, 7, 13), install_location=WindowsPath('C:/Program Files/NVIDIA Corporation/Installer2/CUDARuntimes_10.0.{B05BAB7F-CF4E-4160-9D60-8844D3E52DD8}'), install_source=WindowsPath('C:/Program Files/NVIDIA Corporation/Installer2/CUDARuntimes_10.0.{B05BAB7F-CF4E-4160-9D60-8844D3E52DD8}'), modify_path='', publisher='NVIDIA Corporation', uninstall_string='\"C:\\\\WINDOWS\\\\SysWOW64\\\\RunDll32.EXE\" \"C:\\\\Program Files\\\\NVIDIA Corporation\\\\Installer2\\\\InstallerCore\\\\NVI2.DLL\",UninstallPackage CUDARuntimes_10.0'),\n",
       " InstalledApplication(name='NVIDIA CUDA Runtime 10.1', version='10.1', install_date=datetime.date(2022, 7, 27), install_location=WindowsPath('C:/Program Files/NVIDIA Corporation/Installer2/CUDARuntimes_10.1.{A0C670CB-CFCD-4B05-912C-D6F56D89C03E}'), install_source=WindowsPath('C:/Program Files/NVIDIA Corporation/Installer2/CUDARuntimes_10.1.{A0C670CB-CFCD-4B05-912C-D6F56D89C03E}'), modify_path='', publisher='NVIDIA Corporation', uninstall_string='\"C:\\\\WINDOWS\\\\SysWOW64\\\\RunDll32.EXE\" \"C:\\\\Program Files\\\\NVIDIA Corporation\\\\Installer2\\\\InstallerCore\\\\NVI2.DLL\",UninstallPackage CUDARuntimes_10.1'),\n",
       " InstalledApplication(name='NVIDIA CUDA Runtime 11.2', version='11.2', install_date=datetime.date(2021, 3, 22), install_location=WindowsPath('C:/Program Files/NVIDIA Corporation/Installer2/CUDARuntimes_11.2.{5E699E56-9D01-4622-9C34-BC8EEC322DFA}'), install_source=WindowsPath('C:/Program Files/NVIDIA Corporation/Installer2/CUDARuntimes_11.2.{5E699E56-9D01-4622-9C34-BC8EEC322DFA}'), modify_path='', publisher='NVIDIA Corporation', uninstall_string='\"C:\\\\WINDOWS\\\\SysWOW64\\\\RunDll32.EXE\" \"C:\\\\Program Files\\\\NVIDIA Corporation\\\\Installer2\\\\InstallerCore\\\\NVI2.DLL\",UninstallPackage CUDARuntimes_11.2'),\n",
       " InstalledApplication(name='NVIDIA Graphics Driver 516.59', version='516.59', install_date=datetime.date(2022, 7, 13), install_location=WindowsPath('C:/Program Files/NVIDIA Corporation/Installer2/Display.Driver.{87B736CB-856E-475B-B2AE-4460DC85D2D0}'), install_source=WindowsPath('C:/Program Files/NVIDIA Corporation/Installer2/Display.Driver.{87B736CB-856E-475B-B2AE-4460DC85D2D0}'), modify_path='', publisher='NVIDIA Corporation', uninstall_string='\"C:\\\\WINDOWS\\\\SysWOW64\\\\RunDll32.EXE\" \"C:\\\\Program Files\\\\NVIDIA Corporation\\\\Installer2\\\\InstallerCore\\\\NVI2.DLL\",UninstallPackage Display.Driver'),\n",
       " InstalledApplication(name='NVIDIA GeForce Experience 3.25.1.27', version='3.25.1.27', install_date=datetime.date(2022, 7, 13), install_location=WindowsPath('C:/Program Files/NVIDIA Corporation/Installer2/Display.GFExperience.{25885083-AA5B-4803-9B23-7AB2630CFAE8}'), install_source=WindowsPath('C:/Program Files/NVIDIA Corporation/Installer2/Display.GFExperience.{25885083-AA5B-4803-9B23-7AB2630CFAE8}'), modify_path='', publisher='NVIDIA Corporation', uninstall_string='\"C:\\\\WINDOWS\\\\SysWOW64\\\\RunDll32.EXE\" \"C:\\\\Program Files\\\\NVIDIA Corporation\\\\Installer2\\\\InstallerCore\\\\NVI2.DLL\",UninstallPackage Display.GFExperience'),\n",
       " InstalledApplication(name='NVIDIA PhysX System Software 9.21.0713', version='9.21.0713', install_date=datetime.date(2021, 11, 21), install_location=WindowsPath('C:/Program Files (x86)/NVIDIA Corporation/PhysX'), install_source=WindowsPath('C:/Program Files/NVIDIA Corporation/Installer2/Display.PhysX.{6B1CFF6D-8331-4933-80D2-340532B67F5F}'), modify_path='', publisher='NVIDIA Corporation', uninstall_string='\"C:\\\\WINDOWS\\\\SysWOW64\\\\RunDll32.EXE\" \"C:\\\\Program Files\\\\NVIDIA Corporation\\\\Installer2\\\\InstallerCore\\\\NVI2.DLL\",UninstallPackage Display.PhysX'),\n",
       " InstalledApplication(name='NVIDIA FrameView SDK 1.2.7704.31296923', version='1.2.7704.31296923', install_date=datetime.date(2022, 5, 25), install_location=WindowsPath('C:/Program Files/NVIDIA Corporation/FrameViewSDK'), install_source=WindowsPath('C:/Program Files/NVIDIA Corporation/Installer2/FrameViewSdk.{563C8F5A-F10C-4050-A24B-F685989A8AD2}'), modify_path='', publisher='NVIDIA Corporation', uninstall_string='\"C:\\\\WINDOWS\\\\SysWOW64\\\\RunDll32.EXE\" \"C:\\\\Program Files\\\\NVIDIA Corporation\\\\Installer2\\\\InstallerCore\\\\NVI2.DLL\",UninstallPackage FrameViewSdk'),\n",
       " InstalledApplication(name='NVIDIA HD Audio Driver 1.3.39.3', version='1.3.39.3', install_date=datetime.date(2022, 7, 13), install_location=WindowsPath('C:/Program Files/NVIDIA Corporation/Installer2/HDAudio.Driver.{7C4B4B6A-21AF-48AB-8D43-D4BAB3A6683E}'), install_source=WindowsPath('C:/Program Files/NVIDIA Corporation/Installer2/HDAudio.Driver.{7C4B4B6A-21AF-48AB-8D43-D4BAB3A6683E}'), modify_path='', publisher='NVIDIA Corporation', uninstall_string='\"C:\\\\WINDOWS\\\\SysWOW64\\\\RunDll32.EXE\" \"C:\\\\Program Files\\\\NVIDIA Corporation\\\\Installer2\\\\InstallerCore\\\\NVI2.DLL\",UninstallPackage HDAudio.Driver'),\n",
       " InstalledApplication(name='NVIDIA CUDA Nsight NVTX 11.2', version='11.2', install_date=datetime.date(2021, 3, 22), install_location=WindowsPath('C:/Program Files/NVIDIA GPU Computing Toolkit/CUDA/v11.2'), install_source=WindowsPath('C:/Program Files/NVIDIA Corporation/Installer2/nsight_nvtx_11.2.{E71EA9BF-ECFB-4936-8FD5-F326C18B6773}'), modify_path='', publisher='NVIDIA Corporation', uninstall_string='\"C:\\\\WINDOWS\\\\SysWOW64\\\\RunDll32.EXE\" \"C:\\\\Program Files\\\\NVIDIA Corporation\\\\Installer2\\\\InstallerCore\\\\NVI2.DLL\",UninstallPackage nsight_nvtx_11.2'),\n",
       " InstalledApplication(name='NVIDIA CUDA Samples 10.0', version='10.0', install_date=datetime.date(2022, 7, 13), install_location=WindowsPath('C:/ProgramData/NVIDIA Corporation/CUDA Samples/v10.0'), install_source=WindowsPath('C:/Program Files/NVIDIA Corporation/Installer2/samples_10.0.{36FE47E1-D35A-4BE4-8ADF-F22686961876}'), modify_path='', publisher='NVIDIA Corporation', uninstall_string='\"C:\\\\WINDOWS\\\\SysWOW64\\\\RunDll32.EXE\" \"C:\\\\Program Files\\\\NVIDIA Corporation\\\\Installer2\\\\InstallerCore\\\\NVI2.DLL\",UninstallPackage samples_10.0'),\n",
       " InstalledApplication(name='NVIDIA CUDA Samples 10.1', version='10.1', install_date=datetime.date(2022, 7, 27), install_location=WindowsPath('C:/ProgramData/NVIDIA Corporation/CUDA Samples/v10.1'), install_source=WindowsPath('C:/Program Files/NVIDIA Corporation/Installer2/samples_10.1.{027A5EA7-FD63-48B2-8FCF-0BA000A8849B}'), modify_path='', publisher='NVIDIA Corporation', uninstall_string='\"C:\\\\WINDOWS\\\\SysWOW64\\\\RunDll32.EXE\" \"C:\\\\Program Files\\\\NVIDIA Corporation\\\\Installer2\\\\InstallerCore\\\\NVI2.DLL\",UninstallPackage samples_10.1'),\n",
       " InstalledApplication(name='NVIDIA CUDA Samples 11.2', version='11.2', install_date=datetime.date(2021, 3, 22), install_location=WindowsPath('C:/ProgramData/NVIDIA Corporation/CUDA Samples/v11.2'), install_source=WindowsPath('C:/Program Files/NVIDIA Corporation/Installer2/samples_11.2.{BFCFACA4-FB36-4A74-9F69-28466312A2B7}'), modify_path='', publisher='NVIDIA Corporation', uninstall_string='\"C:\\\\WINDOWS\\\\SysWOW64\\\\RunDll32.EXE\" \"C:\\\\Program Files\\\\NVIDIA Corporation\\\\Installer2\\\\InstallerCore\\\\NVI2.DLL\",UninstallPackage samples_11.2'),\n",
       " InstalledApplication(name='NVIDIA CUDA Visual Studio Integration 10.0', version='10.0', install_date=datetime.date(2022, 7, 13), install_location=WindowsPath('C:/Program Files/NVIDIA GPU Computing Toolkit/CUDA/v10.0'), install_source=WindowsPath('C:/Program Files/NVIDIA Corporation/Installer2/visual_studio_integration_10.0.{E5A30043-33BD-4902-8EB6-F51B35083618}'), modify_path='', publisher='NVIDIA Corporation', uninstall_string='\"C:\\\\WINDOWS\\\\SysWOW64\\\\RunDll32.EXE\" \"C:\\\\Program Files\\\\NVIDIA Corporation\\\\Installer2\\\\InstallerCore\\\\NVI2.DLL\",UninstallPackage visual_studio_integration_10.0'),\n",
       " InstalledApplication(name='NVIDIA CUDA Visual Studio Integration 10.1', version='10.1', install_date=datetime.date(2022, 7, 27), install_location=WindowsPath('C:/Program Files/NVIDIA GPU Computing Toolkit/CUDA/v10.1'), install_source=WindowsPath('C:/Program Files/NVIDIA Corporation/Installer2/visual_studio_integration_10.1.{45FF35E8-41D5-4809-8BDC-C26E91BCB586}'), modify_path='', publisher='NVIDIA Corporation', uninstall_string='\"C:\\\\WINDOWS\\\\SysWOW64\\\\RunDll32.EXE\" \"C:\\\\Program Files\\\\NVIDIA Corporation\\\\Installer2\\\\InstallerCore\\\\NVI2.DLL\",UninstallPackage visual_studio_integration_10.1'),\n",
       " InstalledApplication(name='NVIDIA CUDA Visual Studio Integration 11.2', version='11.2', install_date=datetime.date(2021, 3, 22), install_location=WindowsPath('C:/Program Files/NVIDIA GPU Computing Toolkit/CUDA/v11.2'), install_source=WindowsPath('C:/Program Files/NVIDIA Corporation/Installer2/visual_studio_integration_11.2.{CC7730E7-8F8E-48F9-9421-7A48A0B7FA10}'), modify_path='', publisher='NVIDIA Corporation', uninstall_string='\"C:\\\\WINDOWS\\\\SysWOW64\\\\RunDll32.EXE\" \"C:\\\\Program Files\\\\NVIDIA Corporation\\\\Installer2\\\\InstallerCore\\\\NVI2.DLL\",UninstallPackage visual_studio_integration_11.2'),\n",
       " InstalledApplication(name='NVIDIA Tools Extension SDK (NVTX) - 64 bit', version='1.00.00.00', install_date=datetime.date(2021, 3, 22), install_location='', install_source=WindowsPath('C:/Users/HP/AppData/Local/Temp/CUDA/nsight_nvtx/nsight_nvtx'), modify_path='MsiExec.exe /X{B56D2F88-8865-40FD-B7AC-F074EE4D201D}', publisher='NVIDIA Corporation', uninstall_string='MsiExec.exe /X{B56D2F88-8865-40FD-B7AC-F074EE4D201D}'),\n",
       " InstalledApplication(name='Microsoft .NET SDK 6.0.302 (x64) from Visual Studio', version='6.3.222.32316', install_date=datetime.date(2022, 7, 27), install_location='', install_source=WindowsPath('C:/ProgramData/Microsoft/VisualStudio/Packages/Microsoft.NetCore.SdkPlaceholder.6.0.302-servicing.22323.16,version=17.2.32630.192,machinearch=x64'), modify_path='MsiExec.exe /X{D68F8F2E-558E-4102-8F24-4597A2389AD1}', publisher='Microsoft Corporation', uninstall_string='MsiExec.exe /X{D68F8F2E-558E-4102-8F24-4597A2389AD1}'),\n",
       " InstalledApplication(name='Outline 1.6.0', version='1.6.0', install_date=None, install_location=None, install_source=None, modify_path=None, publisher=None, uninstall_string='\"C:\\\\Program Files (x86)\\\\Outline\\\\Uninstall Outline.exe\" /allusers'),\n",
       " InstalledApplication(name='Visual Studio Community 2022', version='17.2.6', install_date=datetime.date(2022, 7, 13), install_location=WindowsPath('C:/Program Files/Microsoft Visual Studio/2022/Community'), install_source=None, modify_path='\"C:\\\\Program Files (x86)\\\\Microsoft Visual Studio\\\\Installer\\\\setup.exe\" modify --installPath \"C:\\\\Program Files\\\\Microsoft Visual Studio\\\\2022\\\\Community\"', publisher='Microsoft Corporation', uninstall_string='\"C:\\\\Program Files (x86)\\\\Microsoft Visual Studio\\\\Installer\\\\setup.exe\" uninstall --installPath \"C:\\\\Program Files\\\\Microsoft Visual Studio\\\\2022\\\\Community\"'),\n",
       " InstalledApplication(name='Adobe After Effects 2020', version='17.5', install_date=datetime.date(2021, 7, 2), install_location=WindowsPath('C:/Program Files/Adobe'), install_source=None, modify_path=None, publisher='Adobe Inc.', uninstall_string='\"C:\\\\Program Files (x86)\\\\Common Files\\\\Adobe\\\\Adobe Desktop Common\\\\HDBox\\\\Uninstaller.exe\" --uninstall=1 --sapCode=AEFT --productVersion=17.5 --productPlatform=win64 --productAdobeCode={AEFT-17.5-64-ADBEADBEADBEADBEADBEADB} --productName=\"After Effects\" --mode=1'),\n",
       " InstalledApplication(name='Adobe Media Encoder 2020', version='14.8', install_date=datetime.date(2021, 3, 2), install_location=WindowsPath('C:/Program Files/Adobe'), install_source=None, modify_path=None, publisher='Adobe Inc.', uninstall_string='\"C:\\\\Program Files (x86)\\\\Common Files\\\\Adobe\\\\Adobe Desktop Common\\\\HDBox\\\\Uninstaller.exe\" --uninstall=1 --sapCode=AME --productVersion=14.8 --productPlatform=win64 --productAdobeCode={AME-14.8-64-ADBEADBEADBEADBEADBEADBE} --productName=\"Media Encoder\" --mode=1'),\n",
       " InstalledApplication(name='Arduino', version='1.8.18', install_date=None, install_location=None, install_source=None, modify_path=None, publisher='Arduino LLC', uninstall_string='\"C:\\\\Program Files (x86)\\\\Arduino\\\\uninstall.exe\"'),\n",
       " InstalledApplication(name='emu8086 microprocessor emulator', version=None, install_date=datetime.date(2021, 5, 19), install_location=WindowsPath('D:/emu8086'), install_source=None, modify_path=None, publisher='emu8086', uninstall_string='\"D:\\\\emu8086\\\\unins000.exe\"'),\n",
       " InstalledApplication(name='Google Chrome', version='104.0.5112.81', install_date=datetime.date(2022, 8, 10), install_location=WindowsPath('C:/Program Files (x86)/Google/Chrome/Application'), install_source=None, modify_path=None, publisher='Google LLC', uninstall_string='\"C:\\\\Program Files (x86)\\\\Google\\\\Chrome\\\\Application\\\\104.0.5112.81\\\\Installer\\\\setup.exe\" --uninstall --channel=stable --system-level --verbose-logging'),\n",
       " InstalledApplication(name='heroku', version=None, install_date=None, install_location=None, install_source=None, modify_path=None, publisher='Heroku', uninstall_string='\"C:\\\\Program Files\\\\heroku\\\\uninstall.exe\"'),\n",
       " InstalledApplication(name='Keil µVision4', version='5.27.1.0', install_date=None, install_location=None, install_source=None, modify_path=None, publisher='ARM Ltd', uninstall_string='C:\\\\Keil_v5\\\\Uninstall.exe'),\n",
       " InstalledApplication(name='Mentor Graphics Products', version='5.7-022', install_date=None, install_location=None, install_source=None, modify_path=None, publisher='Mentor Graphics Corporation', uninstall_string='c:\\\\mentorgraphics\\\\install\\\\Install.exe -w10rm'),\n",
       " InstalledApplication(name='Microsoft Edge', version='104.0.1293.54', install_date=datetime.date(2022, 8, 13), install_location=WindowsPath('C:/Program Files (x86)/Microsoft/Edge/Application'), install_source=None, modify_path='\"C:\\\\Program Files (x86)\\\\Microsoft\\\\EdgeUpdate\\\\MicrosoftEdgeUpdate.exe\" /install appguid={56EB18F8-B008-4CBD-B6D2-8C97FE7E9062}&appname=Microsoft%20Edge&needsadmin=true&repairtype=windowsonlinerepair /installsource windowsupdate', publisher='Microsoft Corporation', uninstall_string='\"C:\\\\Program Files (x86)\\\\Microsoft\\\\Edge\\\\Application\\\\104.0.1293.54\\\\Installer\\\\setup.exe\" --uninstall --msedge --channel=stable --system-level --verbose-logging'),\n",
       " InstalledApplication(name='Microsoft Edge Update', version='1.3.165.21', install_date=None, install_location=None, install_source=None, modify_path=None, publisher=None, uninstall_string=None),\n",
       " InstalledApplication(name='Microsoft Edge WebView2 Runtime', version='104.0.1293.54', install_date=datetime.date(2022, 8, 13), install_location=WindowsPath('C:/Program Files (x86)/Microsoft/EdgeWebView/Application'), install_source=None, modify_path='\"C:\\\\Program Files (x86)\\\\Microsoft\\\\EdgeUpdate\\\\MicrosoftEdgeUpdate.exe\" /install appguid={F3017226-FE2A-4295-8BDF-00C3A9A7E4C5}&appname=Microsoft%20Edge%20WebView&needsadmin=true&repairtype=windowsonlinerepair /installsource otherinstallcmd', publisher='Microsoft Corporation', uninstall_string='\"C:\\\\Program Files (x86)\\\\Microsoft\\\\EdgeWebView\\\\Application\\\\104.0.1293.54\\\\Installer\\\\setup.exe\" --uninstall --msedgewebview --system-level --verbose-logging'),\n",
       " InstalledApplication(name='Microsoft Office Professional Plus 2010', version='14.0.4763.1000', install_date=None, install_location=WindowsPath('C:/Program Files (x86)/Microsoft Office'), install_source=None, modify_path='\"C:\\\\Program Files (x86)\\\\Common Files\\\\Microsoft Shared\\\\OFFICE14\\\\Office Setup Controller\\\\setup.exe\" /modify PROPLUS /dll OSETUP.DLL', publisher='Microsoft Corporation', uninstall_string='\"C:\\\\Program Files (x86)\\\\Common Files\\\\Microsoft Shared\\\\OFFICE14\\\\Office Setup Controller\\\\setup.exe\" /uninstall PROPLUS /dll OSETUP.DLL'),\n",
       " InstalledApplication(name='Adobe Premiere Pro 2020', version='14.8', install_date=datetime.date(2021, 2, 25), install_location=WindowsPath('C:/Program Files/Adobe'), install_source=None, modify_path=None, publisher='Adobe Inc.', uninstall_string='\"C:\\\\Program Files (x86)\\\\Common Files\\\\Adobe\\\\Adobe Desktop Common\\\\HDBox\\\\Uninstaller.exe\" --uninstall=1 --sapCode=PPRO --productVersion=14.8 --productPlatform=win64 --productAdobeCode={PPRO-14.8-64-ADBEADBEADBEADBEADBEADB} --productName=\"Premiere Pro\" --mode=1'),\n",
       " InstalledApplication(name='PyCharm Community Edition 2022.1.3', version='221.5921.27', install_date=None, install_location=WindowsPath('C:/Program Files/JetBrains/PyCharm Community Edition 2022.1.3'), install_source=None, modify_path=None, publisher='JetBrains s.r.o.', uninstall_string='C:\\\\Program Files\\\\JetBrains\\\\PyCharm Community Edition 2022.1.3\\\\bin\\\\Uninstall.exe'),\n",
       " InstalledApplication(name='RadiAnt DICOM Viewer (64-bit)', version='2021.2.2.35002', install_date=None, install_location=WindowsPath('C:/Program Files/RadiAntViewer64bit'), install_source=None, modify_path=None, publisher='Medixant', uninstall_string='\"C:\\\\Program Files\\\\RadiAntViewer64bit\\\\uninstall.exe\"'),\n",
       " InstalledApplication(name='Microsoft Visual C++ 2013 Redistributable (x64) - 12.0.30501', version='12.0.30501.0', install_date=None, install_location=None, install_source=None, modify_path='\"C:\\\\ProgramData\\\\Package Cache\\\\{050d4fc8-5d48-4b8f-8972-47c82c46020f}\\\\vcredist_x64.exe\" /modify', publisher='Microsoft Corporation', uninstall_string='\"C:\\\\ProgramData\\\\Package Cache\\\\{050d4fc8-5d48-4b8f-8972-47c82c46020f}\\\\vcredist_x64.exe\"  /uninstall'),\n",
       " InstalledApplication(name='Windows 11 Installation Assistant', version='1.4.19041.1703', install_date=None, install_location=None, install_source=None, modify_path=None, publisher='Microsoft Corporation', uninstall_string='\"C:\\\\Program Files (x86)\\\\WindowsInstallationAssistant\\\\Windows10UpgraderApp.exe\" /SunValley /ForceUninstall'),\n",
       " InstalledApplication(name='Keying Suite v11.1.10', version='11.1.10', install_date=datetime.date(2021, 8, 21), install_location=WindowsPath('C:/Program Files (x86)/Red Giant'), install_source=None, modify_path=None, publisher='Red Giant, LLC', uninstall_string='\"C:\\\\Program Files (x86)\\\\Red Giant\\\\unins001.exe\"'),\n",
       " InstalledApplication(name='Java(TM) 6 Update 16', version='6.0.160', install_date=datetime.date(2021, 5, 5), install_location=WindowsPath('C:/Program Files (x86)/Java/jre6'), install_source=WindowsPath('C:/Users/HP/AppData/LocalLow/Sun/Java/jre1.6.0_16'), modify_path='MsiExec.exe /X{26A24AE4-039D-4CA4-87B4-2F83216016FF}', publisher='Sun Microsystems, Inc.', uninstall_string='MsiExec.exe /X{26A24AE4-039D-4CA4-87B4-2F83216016FF}'),\n",
       " InstalledApplication(name='Microsoft Visual C++ 2012 Redistributable (x86) - 11.0.61030', version='11.0.61030.0', install_date=None, install_location=None, install_source=None, modify_path='\"C:\\\\ProgramData\\\\Package Cache\\\\{33d1fd90-4274-48a1-9bc1-97e33d9c2d6f}\\\\vcredist_x86.exe\" /modify', publisher='Microsoft Corporation', uninstall_string='\"C:\\\\ProgramData\\\\Package Cache\\\\{33d1fd90-4274-48a1-9bc1-97e33d9c2d6f}\\\\vcredist_x86.exe\"  /uninstall'),\n",
       " InstalledApplication(name='Microsoft Visual C++ 2015-2022 Redistributable (x64) - 14.32.31332', version='14.32.31332.0', install_date=None, install_location=None, install_source=None, modify_path='\"C:\\\\ProgramData\\\\Package Cache\\\\{3746f21b-c990-4045-bb33-1cf98cff7a68}\\\\VC_redist.x64.exe\" /modify', publisher='Microsoft Corporation', uninstall_string='\"C:\\\\ProgramData\\\\Package Cache\\\\{3746f21b-c990-4045-bb33-1cf98cff7a68}\\\\VC_redist.x64.exe\"  /uninstall'),\n",
       " InstalledApplication(name='Windows Software Development Kit - Windows 10.0.19041.685', version='10.1.19041.685', install_date=None, install_location=None, install_source=None, modify_path='\"C:\\\\ProgramData\\\\Package Cache\\\\{4591faf1-a2db-4a3d-bfda-aa5a4ebb1587}\\\\winsdksetup.exe\" /modify', publisher='Microsoft Corporation', uninstall_string='\"C:\\\\ProgramData\\\\Package Cache\\\\{4591faf1-a2db-4a3d-bfda-aa5a4ebb1587}\\\\winsdksetup.exe\"  /uninstall'),\n",
       " InstalledApplication(name='Microsoft Visual C++ 2013 Redistributable (x86) - 12.0.40660', version='12.0.40660.0', install_date=None, install_location=None, install_source=None, modify_path='\"C:\\\\ProgramData\\\\Package Cache\\\\{61087a79-ac85-455c-934d-1fa22cc64f36}\\\\vcredist_x86.exe\" /modify', publisher='Microsoft Corporation', uninstall_string='\"C:\\\\ProgramData\\\\Package Cache\\\\{61087a79-ac85-455c-934d-1fa22cc64f36}\\\\vcredist_x86.exe\"  /uninstall'),\n",
       " InstalledApplication(name='Color Suite v11.1.1', version='11.1.1', install_date=datetime.date(2021, 3, 14), install_location=WindowsPath('C:/Program Files (x86)/Red Giant'), install_source=None, modify_path=None, publisher='Red Giant, LLC', uninstall_string='\"C:\\\\Program Files (x86)\\\\Red Giant\\\\unins000.exe\"'),\n",
       " InstalledApplication(name='Microsoft Visual C++ 2015-2022 Redistributable (x86) - 14.32.31332', version='14.32.31332.0', install_date=None, install_location=None, install_source=None, modify_path='\"C:\\\\ProgramData\\\\Package Cache\\\\{a98dc6ff-d360-4878-9f0a-915eba86eaf3}\\\\VC_redist.x86.exe\" /modify', publisher='Microsoft Corporation', uninstall_string='\"C:\\\\ProgramData\\\\Package Cache\\\\{a98dc6ff-d360-4878-9f0a-915eba86eaf3}\\\\VC_redist.x86.exe\"  /uninstall'),\n",
       " InstalledApplication(name='Microsoft Visual C++ 2012 Redistributable (x64) - 11.0.61030', version='11.0.61030.0', install_date=None, install_location=None, install_source=None, modify_path='\"C:\\\\ProgramData\\\\Package Cache\\\\{ca67548a-5ebe-413a-b50c-4b9ceb6d66c6}\\\\vcredist_x64.exe\" /modify', publisher='Microsoft Corporation', uninstall_string='\"C:\\\\ProgramData\\\\Package Cache\\\\{ca67548a-5ebe-413a-b50c-4b9ceb6d66c6}\\\\vcredist_x64.exe\"  /uninstall'),\n",
       " InstalledApplication(name='Microsoft Build Tools 2015', version='14.0.23107.10', install_date=None, install_location=None, install_source=None, modify_path='\"C:\\\\ProgramData\\\\Package Cache\\\\{d21da0dd-4ba4-4838-ba58-64cf7a77131a}\\\\BuildTools_Full.exe\" /modify', publisher='Microsoft Corporation', uninstall_string='\"C:\\\\ProgramData\\\\Package Cache\\\\{d21da0dd-4ba4-4838-ba58-64cf7a77131a}\\\\BuildTools_Full.exe\"  /uninstall'),\n",
       " InstalledApplication(name='Windows SDK AddOn', version='10.1.0.0', install_date=datetime.date(2022, 7, 27), install_location='', install_source=WindowsPath('C:/ProgramData/Package Cache/{E18618EC-D9DB-4BCE-B382-85ADA2CBB340}v10.1.0.0/Redistributable/10.1.0.0'), modify_path='MsiExec.exe /I{E18618EC-D9DB-4BCE-B382-85ADA2CBB340}', publisher='Microsoft Corporation', uninstall_string='MsiExec.exe /I{E18618EC-D9DB-4BCE-B382-85ADA2CBB340}'),\n",
       " InstalledApplication(name='Microsoft Visual C++ 2013 Redistributable (x64) - 12.0.40660', version='12.0.40660.0', install_date=None, install_location=None, install_source=None, modify_path='\"C:\\\\ProgramData\\\\Package Cache\\\\{ef6b00ec-13e1-4c25-9064-b2f383cb8412}\\\\vcredist_x64.exe\" /modify', publisher='Microsoft Corporation', uninstall_string='\"C:\\\\ProgramData\\\\Package Cache\\\\{ef6b00ec-13e1-4c25-9064-b2f383cb8412}\\\\vcredist_x64.exe\"  /uninstall'),\n",
       " InstalledApplication(name='Microsoft Visual C++ 2010  x86 Redistributable - 10.0.40219', version='10.0.40219', install_date=datetime.date(2020, 2, 24), install_location='', install_source=WindowsPath('d:/34e8e99940f7e2f6ea241e7455'), modify_path='MsiExec.exe /X{F0C3E5D1-1ADE-321E-8167-68EF0DE699A5}', publisher='Microsoft Corporation', uninstall_string='MsiExec.exe /X{F0C3E5D1-1ADE-321E-8167-68EF0DE699A5}'),\n",
       " InstalledApplication(name='Microsoft Visual C++ 2013 Redistributable (x86) - 12.0.30501', version='12.0.30501.0', install_date=None, install_location=None, install_source=None, modify_path='\"C:\\\\ProgramData\\\\Package Cache\\\\{f65db027-aff3-4070-886a-0d87064aabb1}\\\\vcredist_x86.exe\" /modify', publisher='Microsoft Corporation', uninstall_string='\"C:\\\\ProgramData\\\\Package Cache\\\\{f65db027-aff3-4070-886a-0d87064aabb1}\\\\vcredist_x86.exe\"  /uninstall'),\n",
       " InstalledApplication(name='Intel(R) C++ Redistributables on Intel(R) 64', version='15.0.179', install_date=datetime.date(2021, 1, 16), install_location='', install_source=WindowsPath('C:/adobeTemp/ETRE53F.tmp/2/support/keyfiles/CustomHook/win'), modify_path='MsiExec.exe /X{F70BCE36-25F2-4475-A918-6209B3D85BF3}', publisher='Intel Corporation', uninstall_string='MsiExec.exe /X{F70BCE36-25F2-4475-A918-6209B3D85BF3}'),\n",
       " InstalledApplication(name='QuickTime 7', version='7.79.80.95', install_date=datetime.date(2022, 2, 17), install_location=WindowsPath('C:/Program Files (x86)/QuickTime'), install_source=WindowsPath('C:/Users/HP/AppData/Local/Temp/IXP428.TMP'), modify_path='MsiExec.exe /I{FF59BD75-466A-4D5A-AD23-AAD87C5FD44C}', publisher='Apple Inc.', uninstall_string='MsiExec.exe /I{FF59BD75-466A-4D5A-AD23-AAD87C5FD44C}'),\n",
       " InstalledApplication(name='Microsoft Visual C++ 2008 Redistributable - x86 9.0.21022', version='9.0.21022', install_date=datetime.date(2021, 1, 31), install_location='', install_source=WindowsPath('d:/d754e0dea89beff9827de36f0a908816'), modify_path='MsiExec.exe /X{FF66E9F6-83E7-3A3E-AF14-8DE9A809A6A4}', publisher='Microsoft Corporation', uninstall_string='MsiExec.exe /X{FF66E9F6-83E7-3A3E-AF14-8DE9A809A6A4}')]"
      ]
     },
     "execution_count": 162,
     "metadata": {},
     "output_type": "execute_result"
    }
   ],
   "source": [
    "#q12 : Write a code to check a perticular installation in your system\n",
    "import winapps\n",
    "list(winapps.list_installed())"
   ]
  },
  {
   "cell_type": "code",
   "execution_count": 164,
   "id": "d65558de",
   "metadata": {},
   "outputs": [
    {
     "name": "stdout",
     "output_type": "stream",
     "text": [
      "Collecting gtts\n",
      "  Downloading gTTS-2.2.4-py3-none-any.whl (26 kB)\n",
      "Collecting click\n",
      "  Downloading click-8.0.4-py3-none-any.whl (97 kB)\n",
      "Requirement already satisfied: six in c:\\users\\hp\\anaconda3\\envs\\gpu\\lib\\site-packages (from gtts) (1.16.0)\n",
      "Requirement already satisfied: requests in c:\\users\\hp\\anaconda3\\envs\\gpu\\lib\\site-packages (from gtts) (2.27.1)\n",
      "Requirement already satisfied: importlib-metadata in c:\\users\\hp\\anaconda3\\envs\\gpu\\lib\\site-packages (from click->gtts) (4.8.3)\n",
      "Requirement already satisfied: colorama in c:\\users\\hp\\anaconda3\\envs\\gpu\\lib\\site-packages (from click->gtts) (0.4.5)\n",
      "Requirement already satisfied: zipp>=0.5 in c:\\users\\hp\\anaconda3\\envs\\gpu\\lib\\site-packages (from importlib-metadata->click->gtts) (3.6.0)\n",
      "Requirement already satisfied: typing-extensions>=3.6.4 in c:\\users\\hp\\anaconda3\\envs\\gpu\\lib\\site-packages (from importlib-metadata->click->gtts) (4.1.1)\n",
      "Requirement already satisfied: urllib3<1.27,>=1.21.1 in c:\\users\\hp\\anaconda3\\envs\\gpu\\lib\\site-packages (from requests->gtts) (1.26.11)\n",
      "Requirement already satisfied: certifi>=2017.4.17 in c:\\users\\hp\\anaconda3\\envs\\gpu\\lib\\site-packages (from requests->gtts) (2021.5.30)\n",
      "Requirement already satisfied: idna<4,>=2.5 in c:\\users\\hp\\anaconda3\\envs\\gpu\\lib\\site-packages (from requests->gtts) (3.3)\n",
      "Requirement already satisfied: charset-normalizer~=2.0.0 in c:\\users\\hp\\anaconda3\\envs\\gpu\\lib\\site-packages (from requests->gtts) (2.0.12)\n",
      "Installing collected packages: click, gtts\n",
      "Successfully installed click-8.0.4 gtts-2.2.4\n",
      "Note: you may need to restart the kernel to use updated packages.\n"
     ]
    }
   ],
   "source": [
    "pip install gtts"
   ]
  },
  {
   "cell_type": "code",
   "execution_count": 166,
   "id": "f6eedf59",
   "metadata": {},
   "outputs": [
    {
     "name": "stdout",
     "output_type": "stream",
     "text": [
      "Collecting playsound\n",
      "  Downloading playsound-1.3.0.tar.gz (7.7 kB)\n",
      "Building wheels for collected packages: playsound\n",
      "  Building wheel for playsound (setup.py): started\n",
      "  Building wheel for playsound (setup.py): finished with status 'done'\n",
      "  Created wheel for playsound: filename=playsound-1.3.0-py3-none-any.whl size=7035 sha256=c9f605f17a265cb2a35e559b9070c74adc9e9b43ab442285fbb4b96140917357\n",
      "  Stored in directory: c:\\users\\hp\\appdata\\local\\pip\\cache\\wheels\\2d\\2e\\fd\\10abd9de9e1b013dfa324e4f93bcce680b5e856ad5b0149051\n",
      "Successfully built playsound\n",
      "Installing collected packages: playsound\n",
      "Successfully installed playsound-1.3.0\n",
      "Note: you may need to restart the kernel to use updated packages.\n"
     ]
    }
   ],
   "source": [
    "pip install playsound"
   ]
  },
  {
   "cell_type": "code",
   "execution_count": 3,
   "id": "fbbc9875",
   "metadata": {},
   "outputs": [
    {
     "name": "stdout",
     "output_type": "stream",
     "text": [
      "Enter the text to convert to voice: Prikshit, how are you\n"
     ]
    },
    {
     "name": "stderr",
     "output_type": "stream",
     "text": [
      "\n",
      "    Error 263 for command:\n",
      "        close Hello5.mp3\n",
      "    The specified device is not open or is not recognized by MCI.\n",
      "Failed to close the file: Hello5.mp3\n"
     ]
    }
   ],
   "source": [
    "#q13 : Write a code to convert any text in to voice \n",
    "import gtts\n",
    "from playsound import playsound\n",
    "def txt_to_voice(str1):\n",
    "    tts=gtts.gTTS(str1)\n",
    "    tts.save(\"Hello5.mp3\")\n",
    "    playsound(\"Hello5.mp3\")\n",
    "            \n",
    "Text=input(\"Enter the text to convert to voice: \")\n",
    "txt_to_voice(Text)"
   ]
  },
  {
   "cell_type": "code",
   "execution_count": 1,
   "id": "2a9037c5",
   "metadata": {},
   "outputs": [],
   "source": [
    "#q14 : you have to write a fun which will take string and return a len of  it without using a inbuilt fun len\n",
    "def length_find(txt):\n",
    "    a=0\n",
    "    for i in  txt:\n",
    "        a+=1\n",
    "    return a"
   ]
  },
  {
   "cell_type": "code",
   "execution_count": 4,
   "id": "175a774d",
   "metadata": {},
   "outputs": [
    {
     "name": "stdout",
     "output_type": "stream",
     "text": [
      "enter txt----------->hay\n"
     ]
    },
    {
     "data": {
      "text/plain": [
       "3"
      ]
     },
     "execution_count": 4,
     "metadata": {},
     "output_type": "execute_result"
    }
   ],
   "source": [
    "length_find(input(\"enter txt----------->\"))"
   ]
  },
  {
   "cell_type": "code",
   "execution_count": 52,
   "id": "1fd85968",
   "metadata": {},
   "outputs": [],
   "source": [
    "#q15 :write a fun which will be able to print an index of all premitive element which you will pass \n",
    "def indexing(a):\n",
    "    \n",
    "    if type(a)==str:\n",
    "        for i in range(len(a)):\n",
    "            print(\"index of \",a[i],\"-------->\",i)\n",
    "\n",
    "    if type(a)== list or type(a)== tuple or type(a)== set:\n",
    "        c=0\n",
    "        \n",
    "        for i in (a):\n",
    "            print(\"index  of \",i ,\"-------->\",c)\n",
    "            c+=1\n",
    "            \n",
    "    if type(a)== dict:\n",
    "        c=0\n",
    "        for i,e in a.items():\n",
    "            print(\"index  of \",i,\" : \",e,\"-------->\",c)\n",
    "            c+=1\n",
    "        \n"
   ]
  },
  {
   "cell_type": "code",
   "execution_count": 61,
   "id": "fb8d6c09",
   "metadata": {},
   "outputs": [],
   "source": [
    "def what_input():\n",
    "    a=input(\"what datatype you want to enter --------->\")\n",
    "    if a==\"str\":\n",
    "        indexing((input()))\n",
    "        \n",
    "    elif a==\"dict\":\n",
    "        d={}\n",
    "        c=\"True\"\n",
    "        while c==\"True\":  \n",
    "            a=input(\"enter the key :  \")\n",
    "            b=input(\"enter the value :  \")\n",
    "            d[a]=b\n",
    "            c=(input(\"due you want to enter more values to dictionary---True:\"))\n",
    "\n",
    "        indexing(d)\n",
    "    elif a==\"set\":\n",
    "        indexing(set((input()).split(\",\")))\n",
    "    elif a==\"tuple\":\n",
    "\n",
    "        indexing((input()).split(\",\"))\n",
    "    elif a==\"list\":\n",
    "        indexing((input()).split(\",\"))\n",
    "        \n",
    "    else:\n",
    "        return -1\n",
    "    \n",
    "     "
   ]
  },
  {
   "cell_type": "code",
   "execution_count": 63,
   "id": "40ef177a",
   "metadata": {},
   "outputs": [
    {
     "name": "stdout",
     "output_type": "stream",
     "text": [
      "what datatype you want to enter --------->list\n",
      "2,3323,aacdd,33,d\n",
      "index  of  2 --------> 0\n",
      "index  of  3323 --------> 1\n",
      "index  of  aacdd --------> 2\n",
      "index  of  33 --------> 3\n",
      "index  of  d --------> 4\n"
     ]
    }
   ],
   "source": [
    "what_input()"
   ]
  },
  {
   "cell_type": "code",
   "execution_count": 94,
   "id": "088a5f4e",
   "metadata": {},
   "outputs": [],
   "source": [
    "#q16 : Write a fun which will take input as a dict and give me out as a list of all the values  even in case of 2 level nesting it should work .\n",
    "l=list()\n",
    "def dict_to_list(a):\n",
    "        c=0\n",
    "        \n",
    "        for i,e in a.items():\n",
    "            \n",
    "            if type(e) != dict:\n",
    "                l.append(e)\n",
    "                \n",
    "            else:\n",
    "                l.append(e)\n",
    "                dict_to_list(e)\n",
    "                \n",
    "                \n",
    "                    \n",
    "            \n",
    "            c+=1\n",
    "        print(\"list of all the values\")\n",
    "        return(l)\n",
    "    \n",
    "    "
   ]
  },
  {
   "cell_type": "code",
   "execution_count": 95,
   "id": "c45f9940",
   "metadata": {},
   "outputs": [
    {
     "name": "stdout",
     "output_type": "stream",
     "text": [
      "list of all the values\n",
      "list of all the values\n"
     ]
    },
    {
     "data": {
      "text/plain": [
       "['s', 22323, {'a': 'saooosodw', 1: 22323}, 'saooosodw', 22323]"
      ]
     },
     "execution_count": 95,
     "metadata": {},
     "output_type": "execute_result"
    }
   ],
   "source": [
    "d={\"a\":\"s\",1:22323,\"b\":{\"a\":\"saooosodw\",1:22323}}\n",
    "dict_to_list(d)"
   ]
  },
  {
   "cell_type": "code",
   "execution_count": 108,
   "id": "594d38c6",
   "metadata": {},
   "outputs": [],
   "source": [
    "#q17 : write a function whihc will take multiple list as a input and give me concatnation of all the element as  and output\n",
    "\n",
    "def list_input():\n",
    "    c=\"True\"\n",
    "    \n",
    "    a=[]\n",
    "    while c==\"True\":\n",
    "            \n",
    "            b=(input()).split(\",\")\n",
    "            \n",
    "            c=(input(\"due you want to enter one more list ---True:\"))\n",
    "            a=a+b\n",
    "            \n",
    "    return (a)\n",
    "\n"
   ]
  },
  {
   "cell_type": "code",
   "execution_count": 109,
   "id": "a41fa77e",
   "metadata": {},
   "outputs": [
    {
     "name": "stdout",
     "output_type": "stream",
     "text": [
      "dsd,dd,dwd,ddff,ffef,44,99,00\n",
      "due you want to enter one more list ---True:True\n",
      "0,0,0,0,0\n",
      "due you want to enter one more list ---True:no\n"
     ]
    },
    {
     "data": {
      "text/plain": [
       "['dsd', 'dd', 'dwd', 'ddff', 'ffef', '44', '99', '00', '0', '0', '0', '0', '0']"
      ]
     },
     "execution_count": 109,
     "metadata": {},
     "output_type": "execute_result"
    }
   ],
   "source": [
    " list_input()"
   ]
  },
  {
   "cell_type": "code",
   "execution_count": null,
   "id": "b77ca38f",
   "metadata": {},
   "outputs": [],
   "source": [
    "#q18 : Write a function which will whould return list of all the file name from a directory . "
   ]
  },
  {
   "cell_type": "code",
   "execution_count": null,
   "id": "71552fce",
   "metadata": {},
   "outputs": [],
   "source": []
  },
  {
   "cell_type": "code",
   "execution_count": 11,
   "id": "299f97fa",
   "metadata": {},
   "outputs": [],
   "source": [
    "#q19 : write a function whihc will be able to read a image file and show it to you .\n",
    "import cv2\n",
    "def read_img() : \n",
    "    a = cv2.imread('IMG_20200722_175621.jpg')\n",
    "    cv2.imshow(\"myimg\",a)\n",
    "    cv2.waitKey(5000)\n",
    "    cv2.destroyWindow('myimg')\n",
    "    \n",
    "\n",
    "\n",
    "\n",
    "    \n",
    "    \n",
    "\n"
   ]
  },
  {
   "cell_type": "code",
   "execution_count": 12,
   "id": "715f8d50",
   "metadata": {},
   "outputs": [],
   "source": [
    "read_img()\n"
   ]
  },
  {
   "cell_type": "code",
   "execution_count": null,
   "id": "57424e99",
   "metadata": {},
   "outputs": [],
   "source": [
    "#q20 : write a function by which you will be able to append two PDF files . \n"
   ]
  },
  {
   "cell_type": "code",
   "execution_count": 158,
   "id": "fdbadb04",
   "metadata": {},
   "outputs": [
    {
     "ename": "ConnectionRefusedError",
     "evalue": "[WinError 10061] No connection could be made because the target machine actively refused it",
     "output_type": "error",
     "traceback": [
      "\u001b[1;31m---------------------------------------------------------------------------\u001b[0m",
      "\u001b[1;31mConnectionRefusedError\u001b[0m                    Traceback (most recent call last)",
      "\u001b[1;32m<ipython-input-158-25be998b2b42>\u001b[0m in \u001b[0;36m<module>\u001b[1;34m\u001b[0m\n\u001b[0;32m     13\u001b[0m \u001b[1;33m\u001b[0m\u001b[0m\n\u001b[0;32m     14\u001b[0m \u001b[1;32mtry\u001b[0m\u001b[1;33m:\u001b[0m\u001b[1;33m\u001b[0m\u001b[1;33m\u001b[0m\u001b[0m\n\u001b[1;32m---> 15\u001b[1;33m    \u001b[0msmtpObj\u001b[0m \u001b[1;33m=\u001b[0m \u001b[0msmtplib\u001b[0m\u001b[1;33m.\u001b[0m\u001b[0mSMTP\u001b[0m\u001b[1;33m(\u001b[0m\u001b[1;34m'localhost'\u001b[0m\u001b[1;33m)\u001b[0m\u001b[1;33m\u001b[0m\u001b[1;33m\u001b[0m\u001b[0m\n\u001b[0m\u001b[0;32m     16\u001b[0m    \u001b[0msmtpObj\u001b[0m\u001b[1;33m.\u001b[0m\u001b[0msendmail\u001b[0m\u001b[1;33m(\u001b[0m\u001b[0msender\u001b[0m\u001b[1;33m,\u001b[0m \u001b[0mreceivers\u001b[0m\u001b[1;33m,\u001b[0m \u001b[0mmessage\u001b[0m\u001b[1;33m)\u001b[0m\u001b[1;33m\u001b[0m\u001b[1;33m\u001b[0m\u001b[0m\n\u001b[0;32m     17\u001b[0m    \u001b[0mprint\u001b[0m \u001b[1;33m(\u001b[0m\u001b[1;34m\"Successfully sent email\"\u001b[0m\u001b[1;33m)\u001b[0m\u001b[1;33m\u001b[0m\u001b[1;33m\u001b[0m\u001b[0m\n",
      "\u001b[1;32m~\\Anaconda3\\envs\\gpu\\lib\\smtplib.py\u001b[0m in \u001b[0;36m__init__\u001b[1;34m(self, host, port, local_hostname, timeout, source_address)\u001b[0m\n\u001b[0;32m    249\u001b[0m \u001b[1;33m\u001b[0m\u001b[0m\n\u001b[0;32m    250\u001b[0m         \u001b[1;32mif\u001b[0m \u001b[0mhost\u001b[0m\u001b[1;33m:\u001b[0m\u001b[1;33m\u001b[0m\u001b[1;33m\u001b[0m\u001b[0m\n\u001b[1;32m--> 251\u001b[1;33m             \u001b[1;33m(\u001b[0m\u001b[0mcode\u001b[0m\u001b[1;33m,\u001b[0m \u001b[0mmsg\u001b[0m\u001b[1;33m)\u001b[0m \u001b[1;33m=\u001b[0m \u001b[0mself\u001b[0m\u001b[1;33m.\u001b[0m\u001b[0mconnect\u001b[0m\u001b[1;33m(\u001b[0m\u001b[0mhost\u001b[0m\u001b[1;33m,\u001b[0m \u001b[0mport\u001b[0m\u001b[1;33m)\u001b[0m\u001b[1;33m\u001b[0m\u001b[1;33m\u001b[0m\u001b[0m\n\u001b[0m\u001b[0;32m    252\u001b[0m             \u001b[1;32mif\u001b[0m \u001b[0mcode\u001b[0m \u001b[1;33m!=\u001b[0m \u001b[1;36m220\u001b[0m\u001b[1;33m:\u001b[0m\u001b[1;33m\u001b[0m\u001b[1;33m\u001b[0m\u001b[0m\n\u001b[0;32m    253\u001b[0m                 \u001b[0mself\u001b[0m\u001b[1;33m.\u001b[0m\u001b[0mclose\u001b[0m\u001b[1;33m(\u001b[0m\u001b[1;33m)\u001b[0m\u001b[1;33m\u001b[0m\u001b[1;33m\u001b[0m\u001b[0m\n",
      "\u001b[1;32m~\\Anaconda3\\envs\\gpu\\lib\\smtplib.py\u001b[0m in \u001b[0;36mconnect\u001b[1;34m(self, host, port, source_address)\u001b[0m\n\u001b[0;32m    334\u001b[0m         \u001b[1;32mif\u001b[0m \u001b[0mself\u001b[0m\u001b[1;33m.\u001b[0m\u001b[0mdebuglevel\u001b[0m \u001b[1;33m>\u001b[0m \u001b[1;36m0\u001b[0m\u001b[1;33m:\u001b[0m\u001b[1;33m\u001b[0m\u001b[1;33m\u001b[0m\u001b[0m\n\u001b[0;32m    335\u001b[0m             \u001b[0mself\u001b[0m\u001b[1;33m.\u001b[0m\u001b[0m_print_debug\u001b[0m\u001b[1;33m(\u001b[0m\u001b[1;34m'connect:'\u001b[0m\u001b[1;33m,\u001b[0m \u001b[1;33m(\u001b[0m\u001b[0mhost\u001b[0m\u001b[1;33m,\u001b[0m \u001b[0mport\u001b[0m\u001b[1;33m)\u001b[0m\u001b[1;33m)\u001b[0m\u001b[1;33m\u001b[0m\u001b[1;33m\u001b[0m\u001b[0m\n\u001b[1;32m--> 336\u001b[1;33m         \u001b[0mself\u001b[0m\u001b[1;33m.\u001b[0m\u001b[0msock\u001b[0m \u001b[1;33m=\u001b[0m \u001b[0mself\u001b[0m\u001b[1;33m.\u001b[0m\u001b[0m_get_socket\u001b[0m\u001b[1;33m(\u001b[0m\u001b[0mhost\u001b[0m\u001b[1;33m,\u001b[0m \u001b[0mport\u001b[0m\u001b[1;33m,\u001b[0m \u001b[0mself\u001b[0m\u001b[1;33m.\u001b[0m\u001b[0mtimeout\u001b[0m\u001b[1;33m)\u001b[0m\u001b[1;33m\u001b[0m\u001b[1;33m\u001b[0m\u001b[0m\n\u001b[0m\u001b[0;32m    337\u001b[0m         \u001b[0mself\u001b[0m\u001b[1;33m.\u001b[0m\u001b[0mfile\u001b[0m \u001b[1;33m=\u001b[0m \u001b[1;32mNone\u001b[0m\u001b[1;33m\u001b[0m\u001b[1;33m\u001b[0m\u001b[0m\n\u001b[0;32m    338\u001b[0m         \u001b[1;33m(\u001b[0m\u001b[0mcode\u001b[0m\u001b[1;33m,\u001b[0m \u001b[0mmsg\u001b[0m\u001b[1;33m)\u001b[0m \u001b[1;33m=\u001b[0m \u001b[0mself\u001b[0m\u001b[1;33m.\u001b[0m\u001b[0mgetreply\u001b[0m\u001b[1;33m(\u001b[0m\u001b[1;33m)\u001b[0m\u001b[1;33m\u001b[0m\u001b[1;33m\u001b[0m\u001b[0m\n",
      "\u001b[1;32m~\\Anaconda3\\envs\\gpu\\lib\\smtplib.py\u001b[0m in \u001b[0;36m_get_socket\u001b[1;34m(self, host, port, timeout)\u001b[0m\n\u001b[0;32m    305\u001b[0m             \u001b[0mself\u001b[0m\u001b[1;33m.\u001b[0m\u001b[0m_print_debug\u001b[0m\u001b[1;33m(\u001b[0m\u001b[1;34m'connect: to'\u001b[0m\u001b[1;33m,\u001b[0m \u001b[1;33m(\u001b[0m\u001b[0mhost\u001b[0m\u001b[1;33m,\u001b[0m \u001b[0mport\u001b[0m\u001b[1;33m)\u001b[0m\u001b[1;33m,\u001b[0m \u001b[0mself\u001b[0m\u001b[1;33m.\u001b[0m\u001b[0msource_address\u001b[0m\u001b[1;33m)\u001b[0m\u001b[1;33m\u001b[0m\u001b[1;33m\u001b[0m\u001b[0m\n\u001b[0;32m    306\u001b[0m         return socket.create_connection((host, port), timeout,\n\u001b[1;32m--> 307\u001b[1;33m                                         self.source_address)\n\u001b[0m\u001b[0;32m    308\u001b[0m \u001b[1;33m\u001b[0m\u001b[0m\n\u001b[0;32m    309\u001b[0m     \u001b[1;32mdef\u001b[0m \u001b[0mconnect\u001b[0m\u001b[1;33m(\u001b[0m\u001b[0mself\u001b[0m\u001b[1;33m,\u001b[0m \u001b[0mhost\u001b[0m\u001b[1;33m=\u001b[0m\u001b[1;34m'localhost'\u001b[0m\u001b[1;33m,\u001b[0m \u001b[0mport\u001b[0m\u001b[1;33m=\u001b[0m\u001b[1;36m0\u001b[0m\u001b[1;33m,\u001b[0m \u001b[0msource_address\u001b[0m\u001b[1;33m=\u001b[0m\u001b[1;32mNone\u001b[0m\u001b[1;33m)\u001b[0m\u001b[1;33m:\u001b[0m\u001b[1;33m\u001b[0m\u001b[1;33m\u001b[0m\u001b[0m\n",
      "\u001b[1;32m~\\Anaconda3\\envs\\gpu\\lib\\socket.py\u001b[0m in \u001b[0;36mcreate_connection\u001b[1;34m(address, timeout, source_address)\u001b[0m\n\u001b[0;32m    722\u001b[0m \u001b[1;33m\u001b[0m\u001b[0m\n\u001b[0;32m    723\u001b[0m     \u001b[1;32mif\u001b[0m \u001b[0merr\u001b[0m \u001b[1;32mis\u001b[0m \u001b[1;32mnot\u001b[0m \u001b[1;32mNone\u001b[0m\u001b[1;33m:\u001b[0m\u001b[1;33m\u001b[0m\u001b[1;33m\u001b[0m\u001b[0m\n\u001b[1;32m--> 724\u001b[1;33m         \u001b[1;32mraise\u001b[0m \u001b[0merr\u001b[0m\u001b[1;33m\u001b[0m\u001b[1;33m\u001b[0m\u001b[0m\n\u001b[0m\u001b[0;32m    725\u001b[0m     \u001b[1;32melse\u001b[0m\u001b[1;33m:\u001b[0m\u001b[1;33m\u001b[0m\u001b[1;33m\u001b[0m\u001b[0m\n\u001b[0;32m    726\u001b[0m         \u001b[1;32mraise\u001b[0m \u001b[0merror\u001b[0m\u001b[1;33m(\u001b[0m\u001b[1;34m\"getaddrinfo returns an empty list\"\u001b[0m\u001b[1;33m)\u001b[0m\u001b[1;33m\u001b[0m\u001b[1;33m\u001b[0m\u001b[0m\n",
      "\u001b[1;32m~\\Anaconda3\\envs\\gpu\\lib\\socket.py\u001b[0m in \u001b[0;36mcreate_connection\u001b[1;34m(address, timeout, source_address)\u001b[0m\n\u001b[0;32m    711\u001b[0m             \u001b[1;32mif\u001b[0m \u001b[0msource_address\u001b[0m\u001b[1;33m:\u001b[0m\u001b[1;33m\u001b[0m\u001b[1;33m\u001b[0m\u001b[0m\n\u001b[0;32m    712\u001b[0m                 \u001b[0msock\u001b[0m\u001b[1;33m.\u001b[0m\u001b[0mbind\u001b[0m\u001b[1;33m(\u001b[0m\u001b[0msource_address\u001b[0m\u001b[1;33m)\u001b[0m\u001b[1;33m\u001b[0m\u001b[1;33m\u001b[0m\u001b[0m\n\u001b[1;32m--> 713\u001b[1;33m             \u001b[0msock\u001b[0m\u001b[1;33m.\u001b[0m\u001b[0mconnect\u001b[0m\u001b[1;33m(\u001b[0m\u001b[0msa\u001b[0m\u001b[1;33m)\u001b[0m\u001b[1;33m\u001b[0m\u001b[1;33m\u001b[0m\u001b[0m\n\u001b[0m\u001b[0;32m    714\u001b[0m             \u001b[1;31m# Break explicitly a reference cycle\u001b[0m\u001b[1;33m\u001b[0m\u001b[1;33m\u001b[0m\u001b[1;33m\u001b[0m\u001b[0m\n\u001b[0;32m    715\u001b[0m             \u001b[0merr\u001b[0m \u001b[1;33m=\u001b[0m \u001b[1;32mNone\u001b[0m\u001b[1;33m\u001b[0m\u001b[1;33m\u001b[0m\u001b[0m\n",
      "\u001b[1;31mConnectionRefusedError\u001b[0m: [WinError 10061] No connection could be made because the target machine actively refused it"
     ]
    }
   ],
   "source": []
  },
  {
   "cell_type": "code",
   "execution_count": 111,
   "id": "aaed6fee",
   "metadata": {},
   "outputs": [],
   "source": [
    "#q21 : write a function which can help you to filter only word file from a directory . \n",
    "    \n",
    "        "
   ]
  },
  {
   "cell_type": "code",
   "execution_count": null,
   "id": "6539fce5",
   "metadata": {},
   "outputs": [],
   "source": [
    "#q22 : write a function which can read video file and play for you . \n",
    "    "
   ]
  },
  {
   "cell_type": "code",
   "execution_count": null,
   "id": "f397594a",
   "metadata": {},
   "outputs": [],
   "source": [
    "#q23 : write a function which will be able to shutdonw your system . \n",
    "\n"
   ]
  },
  {
   "cell_type": "code",
   "execution_count": null,
   "id": "addbea7f",
   "metadata": {},
   "outputs": [],
   "source": [
    "#q24 : Write a function which will whould return list of all the file name from a directory . \n",
    "\n"
   ]
  },
  {
   "cell_type": "code",
   "execution_count": null,
   "id": "d2739c5f",
   "metadata": {},
   "outputs": [],
   "source": [
    "#q25 : write a function whihc will be able to access your mail "
   ]
  }
 ],
 "metadata": {
  "kernelspec": {
   "display_name": "Python 3 (ipykernel)",
   "language": "python",
   "name": "python3"
  },
  "language_info": {
   "codemirror_mode": {
    "name": "ipython",
    "version": 3
   },
   "file_extension": ".py",
   "mimetype": "text/x-python",
   "name": "python",
   "nbconvert_exporter": "python",
   "pygments_lexer": "ipython3",
   "version": "3.7.13"
  }
 },
 "nbformat": 4,
 "nbformat_minor": 5
}
