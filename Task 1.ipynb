{
 "cells": [
  {
   "cell_type": "code",
   "execution_count": 95,
   "id": "34d3b4dc",
   "metadata": {},
   "outputs": [],
   "source": [
    "s=\"this is my  first prthon programing class and i am learning python string and its function\" "
   ]
  },
  {
   "cell_type": "code",
   "execution_count": null,
   "id": "c64ff381",
   "metadata": {},
   "outputs": [],
   "source": [
    "\"\"\"s = \"this is My First Python programming class and/ i am learNING python string and its function\"\n",
    "1 . Try to extract data from index one to index 300 with a jump of 3 \n",
    "2. Try to reverse a string without using reverse function \n",
    "3. Try to split a string after conversion of entire string in uppercase \n",
    "4. try to convert the whole string into lower case \n",
    "5 . Try to capitalize the whole string \n",
    "6 . Write a diference between isalnum() and isalpha()\n",
    "7. Try to give an example of expand tab\n",
    "8 . Give an example of strip , lstrip and rstrip \n",
    "9.  Replace a string charecter by another charector by taking your own example \n",
    "\"sudhanshu\"\n",
    "10 . Try  to give a defination of string center function with and exmple \n",
    "11 . Write your own definition of compiler and interpretor without copy paste form internet in your own language\n",
    "12 . Python is a interpreted of compiled language give a clear ans with your understanding \n",
    "13 . Try to write a usecase of python with your understanding . \"\"\""
   ]
  },
  {
   "cell_type": "code",
   "execution_count": 82,
   "id": "05ca690c",
   "metadata": {},
   "outputs": [
    {
     "data": {
      "text/plain": [
       "'h   itropgmglsnimengyosi dtfco'"
      ]
     },
     "execution_count": 82,
     "metadata": {},
     "output_type": "execute_result"
    }
   ],
   "source": [
    "#1\n",
    "s[1:300:3]"
   ]
  },
  {
   "cell_type": "code",
   "execution_count": 84,
   "id": "6d2e3aad",
   "metadata": {},
   "outputs": [
    {
     "data": {
      "text/plain": [
       "'noitcnuf sti dna gnirts nohtyp gninrael ma i dna ssalc gnimargorp nohtrp tsrif  ym si siht'"
      ]
     },
     "execution_count": 84,
     "metadata": {},
     "output_type": "execute_result"
    }
   ],
   "source": [
    "#2\n",
    "s[::-1]"
   ]
  },
  {
   "cell_type": "code",
   "execution_count": 96,
   "id": "e48fffa1",
   "metadata": {},
   "outputs": [
    {
     "data": {
      "text/plain": [
       "['THIS',\n",
       " 'IS',\n",
       " 'MY',\n",
       " '',\n",
       " 'FIRST',\n",
       " 'PRTHON',\n",
       " 'PROGRAMING',\n",
       " 'CLASS',\n",
       " 'AND',\n",
       " 'I',\n",
       " 'AM',\n",
       " 'LEARNING',\n",
       " 'PYTHON',\n",
       " 'STRING',\n",
       " 'AND',\n",
       " 'ITS',\n",
       " 'FUNCTION']"
      ]
     },
     "execution_count": 96,
     "metadata": {},
     "output_type": "execute_result"
    }
   ],
   "source": [
    "#3\n",
    "s=s.upper()\n",
    "s=s.split(\" \")\n",
    "\n",
    "s"
   ]
  },
  {
   "cell_type": "code",
   "execution_count": 98,
   "id": "48a2e86a",
   "metadata": {},
   "outputs": [
    {
     "data": {
      "text/plain": [
       "'this is my  first prthon programing class and i am learning python string and its function'"
      ]
     },
     "execution_count": 98,
     "metadata": {},
     "output_type": "execute_result"
    }
   ],
   "source": [
    "#4\n",
    "s=\"this is my  first prthon programing class and i am learning python string and its function\" \n",
    "s.lower()"
   ]
  },
  {
   "cell_type": "code",
   "execution_count": 100,
   "id": "89e18dee",
   "metadata": {},
   "outputs": [
    {
     "data": {
      "text/plain": [
       "'This is my  first prthon programing class and i am learning python string and its function'"
      ]
     },
     "execution_count": 100,
     "metadata": {},
     "output_type": "execute_result"
    }
   ],
   "source": [
    "#5\n",
    "s.capitalize()\n"
   ]
  },
  {
   "cell_type": "markdown",
   "id": "47549492",
   "metadata": {},
   "source": [
    "#6\n",
    "\n",
    "isalnum()-\n",
    "Return True if all characters in string variable  are alphanumeric\n",
    "          and there is at least one character in S, False otherwise.\n",
    "          \n",
    "          \n",
    "isalpha()-\n",
    "Return True if all characters in in string variable S are alphabetic\n",
    "          and there is at least one character in S, False otherwise."
   ]
  },
  {
   "cell_type": "code",
   "execution_count": 106,
   "id": "80429a18",
   "metadata": {},
   "outputs": [
    {
     "name": "stdout",
     "output_type": "stream",
     "text": [
      "hi\twhy\tit\tme\tttttt\n"
     ]
    },
    {
     "data": {
      "text/plain": [
       "'hi      why     it      me      ttttt'"
      ]
     },
     "execution_count": 106,
     "metadata": {},
     "output_type": "execute_result"
    }
   ],
   "source": [
    "#7\n",
    "s=\"hi\\twhy\\tit\\tme\\tttttt\"\n",
    "print(s)\n",
    "s.expandtabs()"
   ]
  },
  {
   "cell_type": "code",
   "execution_count": 107,
   "id": "3ef5d51b",
   "metadata": {},
   "outputs": [
    {
     "data": {
      "text/plain": [
       "'cckmdcodoc'"
      ]
     },
     "execution_count": 107,
     "metadata": {},
     "output_type": "execute_result"
    }
   ],
   "source": [
    "#8\n",
    "\n",
    "e= \"   cckmdcodoc          \"\n",
    "e.strip()"
   ]
  },
  {
   "cell_type": "code",
   "execution_count": 104,
   "id": "1d48c2d0",
   "metadata": {},
   "outputs": [
    {
     "data": {
      "text/plain": [
       "'   cckmdcodoc'"
      ]
     },
     "execution_count": 104,
     "metadata": {},
     "output_type": "execute_result"
    }
   ],
   "source": [
    "e.rstrip()"
   ]
  },
  {
   "cell_type": "code",
   "execution_count": 105,
   "id": "7c0cd776",
   "metadata": {},
   "outputs": [
    {
     "data": {
      "text/plain": [
       "'cckmdcodoc          '"
      ]
     },
     "execution_count": 105,
     "metadata": {},
     "output_type": "execute_result"
    }
   ],
   "source": [
    "e.lstrip()"
   ]
  },
  {
   "cell_type": "code",
   "execution_count": 110,
   "id": "b676d467",
   "metadata": {},
   "outputs": [
    {
     "data": {
      "text/plain": [
       "'zi zow are you'"
      ]
     },
     "execution_count": 110,
     "metadata": {},
     "output_type": "execute_result"
    }
   ],
   "source": [
    "#9\n",
    "\n",
    "s=\"hi how are you\"\n",
    "result = s.replace(\"h\", \"z\")\n",
    "result"
   ]
  },
  {
   "cell_type": "code",
   "execution_count": 111,
   "id": "c5c4629e",
   "metadata": {},
   "outputs": [
    {
     "data": {
      "text/plain": [
       "'!!!!!!!!!!!!!!!!!!hi how are you!!!!!!!!!!!!!!!!!!'"
      ]
     },
     "execution_count": 111,
     "metadata": {},
     "output_type": "execute_result"
    }
   ],
   "source": [
    "#10\n",
    "\n",
    "s.center(50,\"!\")\n"
   ]
  },
  {
   "cell_type": "code",
   "execution_count": null,
   "id": "029dbc8d",
   "metadata": {},
   "outputs": [],
   "source": [
    "#11\n",
    "\n",
    "Interpreter :- Interpreter interpret or translates any progoram line by line which makes it slower. Also, interpreter works on bytecode. For eg. Python, Javascript etc.\n",
    "\n",
    "Compiler :- Compiler takes the whole program at once and translates it as a whole in machine code which makes it faster than interpreter. Also, after compilation code is converted into machine code. For eg. C,C++, Java etc.\n",
    "\n"
   ]
  },
  {
   "cell_type": "code",
   "execution_count": null,
   "id": "a5a503f8",
   "metadata": {},
   "outputs": [],
   "source": []
  },
  {
   "cell_type": "code",
   "execution_count": null,
   "id": "73cee2c8",
   "metadata": {},
   "outputs": [],
   "source": [
    "#12\n",
    "#In general it is belived that Python is a interpreter language but in reality neigther it is a compiler language nor a interpreted language.\n",
    "#It works in two layer first the .py file is compliled to an intermediate code of .pyc then the .pyc file is directly interpreted as for final output.\n",
    "source code--->compiler--->byte code--->interpreter--->machine code\n",
    "                                        (Virtual \n",
    "                                        machine(PVM))"
   ]
  },
  {
   "cell_type": "markdown",
   "id": "b865d3a0",
   "metadata": {},
   "source": [
    "#13\n",
    "\n",
    "\n",
    " python is a programming language , it can be used for game development ,data analysis in ai , software development ,iot etc "
   ]
  },
  {
   "cell_type": "code",
   "execution_count": null,
   "id": "a9b0d7b0",
   "metadata": {},
   "outputs": [],
   "source": []
  }
 ],
 "metadata": {
  "kernelspec": {
   "display_name": "Python 3",
   "language": "python",
   "name": "python3"
  },
  "language_info": {
   "codemirror_mode": {
    "name": "ipython",
    "version": 3
   },
   "file_extension": ".py",
   "mimetype": "text/x-python",
   "name": "python",
   "nbconvert_exporter": "python",
   "pygments_lexer": "ipython3",
   "version": "3.6.13"
  }
 },
 "nbformat": 4,
 "nbformat_minor": 5
}
