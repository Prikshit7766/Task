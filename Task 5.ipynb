{
 "cells": [
  {
   "cell_type": "code",
   "execution_count": null,
   "id": "6543b08a",
   "metadata": {},
   "outputs": [],
   "source": [
    "Todays task :\n",
    "    q1 : Try to print a prime number in between 1 to 1000\n",
    "    q2 : Try to write a function which  is equivalent  to print function in python\n",
    "    q3 : Try to write a function which is a replica of list append , extend and pop function \n",
    "    q4 : Try to write a lambda function which can return a concatination of all the string that we will pass\n",
    "    q5 : Try to write a lambda function which can return list of square of all the data between 1-100 \n",
    "    q6 : Try to write a 10 Different different example of lambda function with a choice of your taks \n",
    "    q7 : Try to wwrite a funtion whihc can perform a read operation from .txt file \n",
    "        \n",
    "        shivan@ineuron.ai\n",
    "        sudhashu@ineuron.ai"
   ]
  },
  {
   "cell_type": "code",
   "execution_count": 21,
   "id": "a556e663",
   "metadata": {},
   "outputs": [],
   "source": [
    "#    q1 : Try to print a prime number in between 1 to 1000\n",
    "def pn():\n",
    "    l=[]\n",
    "    for i in range(2,1001):\n",
    "        for  j in range( 2,i+1):\n",
    "            if i%j ==0 :    \n",
    "                if j !=i :\n",
    "                    break\n",
    "                elif j==i :\n",
    "                    l.append(j)\n",
    "    return (l)\n",
    "                    \n",
    "                \n",
    "        "
   ]
  },
  {
   "cell_type": "code",
   "execution_count": 59,
   "id": "682eeb34",
   "metadata": {},
   "outputs": [],
   "source": [
    "l= pn()\n"
   ]
  },
  {
   "cell_type": "code",
   "execution_count": 60,
   "id": "d39e6adf",
   "metadata": {},
   "outputs": [
    {
     "data": {
      "text/plain": [
       "[2,\n",
       " 3,\n",
       " 5,\n",
       " 7,\n",
       " 11,\n",
       " 13,\n",
       " 17,\n",
       " 19,\n",
       " 23,\n",
       " 29,\n",
       " 31,\n",
       " 37,\n",
       " 41,\n",
       " 43,\n",
       " 47,\n",
       " 53,\n",
       " 59,\n",
       " 61,\n",
       " 67,\n",
       " 71,\n",
       " 73,\n",
       " 79,\n",
       " 83,\n",
       " 89,\n",
       " 97,\n",
       " 101,\n",
       " 103,\n",
       " 107,\n",
       " 109,\n",
       " 113,\n",
       " 127,\n",
       " 131,\n",
       " 137,\n",
       " 139,\n",
       " 149,\n",
       " 151,\n",
       " 157,\n",
       " 163,\n",
       " 167,\n",
       " 173,\n",
       " 179,\n",
       " 181,\n",
       " 191,\n",
       " 193,\n",
       " 197,\n",
       " 199,\n",
       " 211,\n",
       " 223,\n",
       " 227,\n",
       " 229,\n",
       " 233,\n",
       " 239,\n",
       " 241,\n",
       " 251,\n",
       " 257,\n",
       " 263,\n",
       " 269,\n",
       " 271,\n",
       " 277,\n",
       " 281,\n",
       " 283,\n",
       " 293,\n",
       " 307,\n",
       " 311,\n",
       " 313,\n",
       " 317,\n",
       " 331,\n",
       " 337,\n",
       " 347,\n",
       " 349,\n",
       " 353,\n",
       " 359,\n",
       " 367,\n",
       " 373,\n",
       " 379,\n",
       " 383,\n",
       " 389,\n",
       " 397,\n",
       " 401,\n",
       " 409,\n",
       " 419,\n",
       " 421,\n",
       " 431,\n",
       " 433,\n",
       " 439,\n",
       " 443,\n",
       " 449,\n",
       " 457,\n",
       " 461,\n",
       " 463,\n",
       " 467,\n",
       " 479,\n",
       " 487,\n",
       " 491,\n",
       " 499,\n",
       " 503,\n",
       " 509,\n",
       " 521,\n",
       " 523,\n",
       " 541,\n",
       " 547,\n",
       " 557,\n",
       " 563,\n",
       " 569,\n",
       " 571,\n",
       " 577,\n",
       " 587,\n",
       " 593,\n",
       " 599,\n",
       " 601,\n",
       " 607,\n",
       " 613,\n",
       " 617,\n",
       " 619,\n",
       " 631,\n",
       " 641,\n",
       " 643,\n",
       " 647,\n",
       " 653,\n",
       " 659,\n",
       " 661,\n",
       " 673,\n",
       " 677,\n",
       " 683,\n",
       " 691,\n",
       " 701,\n",
       " 709,\n",
       " 719,\n",
       " 727,\n",
       " 733,\n",
       " 739,\n",
       " 743,\n",
       " 751,\n",
       " 757,\n",
       " 761,\n",
       " 769,\n",
       " 773,\n",
       " 787,\n",
       " 797,\n",
       " 809,\n",
       " 811,\n",
       " 821,\n",
       " 823,\n",
       " 827,\n",
       " 829,\n",
       " 839,\n",
       " 853,\n",
       " 857,\n",
       " 859,\n",
       " 863,\n",
       " 877,\n",
       " 881,\n",
       " 883,\n",
       " 887,\n",
       " 907,\n",
       " 911,\n",
       " 919,\n",
       " 929,\n",
       " 937,\n",
       " 941,\n",
       " 947,\n",
       " 953,\n",
       " 967,\n",
       " 971,\n",
       " 977,\n",
       " 983,\n",
       " 991,\n",
       " 997]"
      ]
     },
     "execution_count": 60,
     "metadata": {},
     "output_type": "execute_result"
    }
   ],
   "source": [
    "l"
   ]
  },
  {
   "cell_type": "code",
   "execution_count": 81,
   "id": "8cdb2d45",
   "metadata": {},
   "outputs": [
    {
     "name": "stdout",
     "output_type": "stream",
     "text": [
      "Hi there,how are you?\n",
      "Hi there how are you?\n"
     ]
    }
   ],
   "source": [
    " # q2 : Try to write a function which  is equivalent  to print function in python\n",
    "\n",
    "import sys, functools\n",
    "\n",
    "nl = \"\\n\"\n",
    "\n",
    "def StreamOut(stream, *s, **kw):\n",
    "    k = kw.setdefault\n",
    "    # Process keyword arguments\n",
    "    sep     = k(\"sep\", \"\")\n",
    "    auto_nl = k(\"auto_nl\", True)\n",
    "    prefix  = k(\"prefix\", \"\")\n",
    "    convert = k(\"convert\", str)\n",
    "    end =     k( \"end\",'\\n')\n",
    "\n",
    "\n",
    "    # Convert position arguments to strings\n",
    "    strings = map(convert, s)\n",
    "    # Dump them to the stream\n",
    "    stream.write(prefix + sep.join(strings))\n",
    "    # Add a newline if desired\n",
    "    if auto_nl:\n",
    "        stream.write(nl)\n",
    "    \n",
    "\n",
    "out  = functools.partial(StreamOut, sys.stdout)\n",
    "outs = functools.partial(StreamOut, sys.stdout, sep=\" \")\n",
    "dbg  = functools.partial(StreamOut, sys.stdout, sep=\" \", prefix=\"+ \")\n",
    "err  = functools.partial(StreamOut, sys.stderr)\n",
    "\n",
    "out(\"Hi there\", \"how are you?\", sep= \",\" )\n",
    "outs(\"Hi there\", \"how are you?\")"
   ]
  },
  {
   "cell_type": "code",
   "execution_count": 100,
   "id": "7ef6b844",
   "metadata": {},
   "outputs": [],
   "source": [
    " #q3 : Try to write a function which is a replica of list append , extend and pop function\n",
    "def append_extend(l1,l2):\n",
    "    l =l1 + l2\n",
    "    print(l) \n",
    "def pop_(l1,l2):\n",
    "    l=l1[:-1]\n",
    "    print(l)\n",
    "def extend()\n"
   ]
  },
  {
   "cell_type": "code",
   "execution_count": 104,
   "id": "3bed91d6",
   "metadata": {},
   "outputs": [
    {
     "name": "stdout",
     "output_type": "stream",
     "text": [
      "1,2,3,4\n",
      "1\n",
      "['1', '2', '3', '4', '1']\n"
     ]
    }
   ],
   "source": [
    "a= input().split(\",\")\n",
    "b=[input()]\n",
    "append_extend(a,b)# append\n",
    "c=input().split(\",\")\n",
    "append_extend(a,b)# extend\n"
   ]
  },
  {
   "cell_type": "code",
   "execution_count": 102,
   "id": "06a6bf5f",
   "metadata": {},
   "outputs": [
    {
     "name": "stdout",
     "output_type": "stream",
     "text": [
      "ass.as.d,w,e,e,w,d\n",
      "d\n",
      "['ass.as.d', 'w', 'e', 'e', 'w']\n"
     ]
    }
   ],
   "source": [
    "a= input().split(\",\")\n",
    "pop_(a)#pop"
   ]
  },
  {
   "cell_type": "code",
   "execution_count": 95,
   "id": "862a8893",
   "metadata": {},
   "outputs": [],
   "source": [
    "# q4 : Try to write a lambda function which can return a concatination of all the string that we will pass\n",
    "\n",
    "n= lambda *a:''.join([i  for i in a ]) # join is used to concatinate\n"
   ]
  },
  {
   "cell_type": "code",
   "execution_count": 92,
   "id": "a06f6ed2",
   "metadata": {},
   "outputs": [],
   "source": [
    "n1=lambda a,b : a+b"
   ]
  },
  {
   "cell_type": "code",
   "execution_count": 144,
   "id": "88eebfcd",
   "metadata": {},
   "outputs": [
    {
     "data": {
      "text/plain": [
       "'hiajqsszjabjabjkkjbajxbajbx'"
      ]
     },
     "execution_count": 144,
     "metadata": {},
     "output_type": "execute_result"
    }
   ],
   "source": [
    "n(\"hiajqss\",\"zjabjab\",\"jkkjbajxbajbx\")"
   ]
  },
  {
   "cell_type": "code",
   "execution_count": 94,
   "id": "2742ba87",
   "metadata": {},
   "outputs": [
    {
     "data": {
      "text/plain": [
       "'hinoooo'"
      ]
     },
     "execution_count": 94,
     "metadata": {},
     "output_type": "execute_result"
    }
   ],
   "source": [
    "n1(\"hi\",\"noooo\")"
   ]
  },
  {
   "cell_type": "code",
   "execution_count": 162,
   "id": "6329ded1",
   "metadata": {},
   "outputs": [],
   "source": [
    "#q5 : Try to write a lambda function which can return list of square of all the data between 1-100 \n",
    "t=lambda x:[i**2 for i in range(1,x+1)]"
   ]
  },
  {
   "cell_type": "code",
   "execution_count": 163,
   "id": "95d93186",
   "metadata": {},
   "outputs": [
    {
     "data": {
      "text/plain": [
       "[1,\n",
       " 4,\n",
       " 9,\n",
       " 16,\n",
       " 25,\n",
       " 36,\n",
       " 49,\n",
       " 64,\n",
       " 81,\n",
       " 100,\n",
       " 121,\n",
       " 144,\n",
       " 169,\n",
       " 196,\n",
       " 225,\n",
       " 256,\n",
       " 289,\n",
       " 324,\n",
       " 361,\n",
       " 400,\n",
       " 441,\n",
       " 484,\n",
       " 529,\n",
       " 576,\n",
       " 625,\n",
       " 676,\n",
       " 729,\n",
       " 784,\n",
       " 841,\n",
       " 900,\n",
       " 961,\n",
       " 1024,\n",
       " 1089,\n",
       " 1156,\n",
       " 1225,\n",
       " 1296,\n",
       " 1369,\n",
       " 1444,\n",
       " 1521,\n",
       " 1600,\n",
       " 1681,\n",
       " 1764,\n",
       " 1849,\n",
       " 1936,\n",
       " 2025,\n",
       " 2116,\n",
       " 2209,\n",
       " 2304,\n",
       " 2401,\n",
       " 2500,\n",
       " 2601,\n",
       " 2704,\n",
       " 2809,\n",
       " 2916,\n",
       " 3025,\n",
       " 3136,\n",
       " 3249,\n",
       " 3364,\n",
       " 3481,\n",
       " 3600,\n",
       " 3721,\n",
       " 3844,\n",
       " 3969,\n",
       " 4096,\n",
       " 4225,\n",
       " 4356,\n",
       " 4489,\n",
       " 4624,\n",
       " 4761,\n",
       " 4900,\n",
       " 5041,\n",
       " 5184,\n",
       " 5329,\n",
       " 5476,\n",
       " 5625,\n",
       " 5776,\n",
       " 5929,\n",
       " 6084,\n",
       " 6241,\n",
       " 6400,\n",
       " 6561,\n",
       " 6724,\n",
       " 6889,\n",
       " 7056,\n",
       " 7225,\n",
       " 7396,\n",
       " 7569,\n",
       " 7744,\n",
       " 7921,\n",
       " 8100,\n",
       " 8281,\n",
       " 8464,\n",
       " 8649,\n",
       " 8836,\n",
       " 9025,\n",
       " 9216,\n",
       " 9409,\n",
       " 9604,\n",
       " 9801,\n",
       " 10000]"
      ]
     },
     "execution_count": 163,
     "metadata": {},
     "output_type": "execute_result"
    }
   ],
   "source": [
    "t(100)"
   ]
  },
  {
   "cell_type": "code",
   "execution_count": null,
   "id": "1f363444",
   "metadata": {},
   "outputs": [],
   "source": [
    " #q6 : Try to write a 10 Different different example of lambda function with a choice of your taks \n",
    "    \n",
    "    \n",
    "    "
   ]
  },
  {
   "cell_type": "code",
   "execution_count": 2,
   "id": "502d8321",
   "metadata": {},
   "outputs": [],
   "source": [
    "a1=lambda x,y: x*y"
   ]
  },
  {
   "cell_type": "code",
   "execution_count": 3,
   "id": "dd2c6213",
   "metadata": {},
   "outputs": [
    {
     "data": {
      "text/plain": [
       "2"
      ]
     },
     "execution_count": 3,
     "metadata": {},
     "output_type": "execute_result"
    }
   ],
   "source": [
    "a1(1,2)"
   ]
  },
  {
   "cell_type": "code",
   "execution_count": 15,
   "id": "10a7bb7b",
   "metadata": {},
   "outputs": [],
   "source": [
    "a2=lambda x: [i for i in x]"
   ]
  },
  {
   "cell_type": "code",
   "execution_count": 16,
   "id": "81bd8700",
   "metadata": {},
   "outputs": [
    {
     "data": {
      "text/plain": [
       "['h', 'i', ' ', 'h', 'o', 'w', ' ', 'a', 'r', 'e', ' ', 'y', 'o', 'u']"
      ]
     },
     "execution_count": 16,
     "metadata": {},
     "output_type": "execute_result"
    }
   ],
   "source": [
    "a2(\"hi how are you\")"
   ]
  },
  {
   "cell_type": "code",
   "execution_count": 18,
   "id": "e318f717",
   "metadata": {},
   "outputs": [],
   "source": [
    "a3=lambda x: (\" \").join([str(i) for i in x])"
   ]
  },
  {
   "cell_type": "code",
   "execution_count": 19,
   "id": "3930fcfe",
   "metadata": {},
   "outputs": [
    {
     "data": {
      "text/plain": [
       "'h i   h o w   a r e   y o u'"
      ]
     },
     "execution_count": 19,
     "metadata": {},
     "output_type": "execute_result"
    }
   ],
   "source": [
    "a3(\"hi how are you\")"
   ]
  },
  {
   "cell_type": "code",
   "execution_count": 38,
   "id": "41e3795c",
   "metadata": {},
   "outputs": [],
   "source": [
    "a4 = lambda x: [int(i) for i in range(1,x+1,2)]"
   ]
  },
  {
   "cell_type": "code",
   "execution_count": 39,
   "id": "478e026e",
   "metadata": {},
   "outputs": [
    {
     "data": {
      "text/plain": [
       "[1,\n",
       " 3,\n",
       " 5,\n",
       " 7,\n",
       " 9,\n",
       " 11,\n",
       " 13,\n",
       " 15,\n",
       " 17,\n",
       " 19,\n",
       " 21,\n",
       " 23,\n",
       " 25,\n",
       " 27,\n",
       " 29,\n",
       " 31,\n",
       " 33,\n",
       " 35,\n",
       " 37,\n",
       " 39,\n",
       " 41,\n",
       " 43,\n",
       " 45,\n",
       " 47,\n",
       " 49,\n",
       " 51,\n",
       " 53,\n",
       " 55,\n",
       " 57,\n",
       " 59,\n",
       " 61,\n",
       " 63,\n",
       " 65,\n",
       " 67,\n",
       " 69,\n",
       " 71,\n",
       " 73,\n",
       " 75,\n",
       " 77,\n",
       " 79,\n",
       " 81,\n",
       " 83,\n",
       " 85,\n",
       " 87,\n",
       " 89,\n",
       " 91,\n",
       " 93,\n",
       " 95,\n",
       " 97,\n",
       " 99]"
      ]
     },
     "execution_count": 39,
     "metadata": {},
     "output_type": "execute_result"
    }
   ],
   "source": [
    "print(\"odd number till 100\")\n",
    "a4(100)"
   ]
  },
  {
   "cell_type": "code",
   "execution_count": 40,
   "id": "07b3c587",
   "metadata": {},
   "outputs": [],
   "source": [
    "a5 = lambda x: [int(i) for i in range(0,x+1,2)]"
   ]
  },
  {
   "cell_type": "code",
   "execution_count": 41,
   "id": "75398289",
   "metadata": {},
   "outputs": [
    {
     "name": "stdout",
     "output_type": "stream",
     "text": [
      "even number till 100\n"
     ]
    },
    {
     "data": {
      "text/plain": [
       "[0,\n",
       " 2,\n",
       " 4,\n",
       " 6,\n",
       " 8,\n",
       " 10,\n",
       " 12,\n",
       " 14,\n",
       " 16,\n",
       " 18,\n",
       " 20,\n",
       " 22,\n",
       " 24,\n",
       " 26,\n",
       " 28,\n",
       " 30,\n",
       " 32,\n",
       " 34,\n",
       " 36,\n",
       " 38,\n",
       " 40,\n",
       " 42,\n",
       " 44,\n",
       " 46,\n",
       " 48,\n",
       " 50,\n",
       " 52,\n",
       " 54,\n",
       " 56,\n",
       " 58,\n",
       " 60,\n",
       " 62,\n",
       " 64,\n",
       " 66,\n",
       " 68,\n",
       " 70,\n",
       " 72,\n",
       " 74,\n",
       " 76,\n",
       " 78,\n",
       " 80,\n",
       " 82,\n",
       " 84,\n",
       " 86,\n",
       " 88,\n",
       " 90,\n",
       " 92,\n",
       " 94,\n",
       " 96,\n",
       " 98,\n",
       " 100]"
      ]
     },
     "execution_count": 41,
     "metadata": {},
     "output_type": "execute_result"
    }
   ],
   "source": [
    "print(\"even number till 100\")\n",
    "a5(100)"
   ]
  },
  {
   "cell_type": "code",
   "execution_count": 54,
   "id": "5bc1f9bc",
   "metadata": {},
   "outputs": [],
   "source": [
    "a6 = lambda **x: tuple([i for i in x.items()])"
   ]
  },
  {
   "cell_type": "code",
   "execution_count": 55,
   "id": "f712f61b",
   "metadata": {},
   "outputs": [
    {
     "data": {
      "text/plain": [
       "(('brand', 'Ford'), ('model', 'Mustang'), ('year', 1964))"
      ]
     },
     "execution_count": 55,
     "metadata": {},
     "output_type": "execute_result"
    }
   ],
   "source": [
    "a6(\n",
    "  brand= \"Ford\",\n",
    "  model= \"Mustang\",\n",
    "  year= 1964\n",
    ")"
   ]
  },
  {
   "cell_type": "code",
   "execution_count": 80,
   "id": "d60d4ada",
   "metadata": {},
   "outputs": [],
   "source": [
    "import numpy as np\n",
    "a7 = lambda x: x.reshape(6,1)"
   ]
  },
  {
   "cell_type": "code",
   "execution_count": 77,
   "id": "c413b534",
   "metadata": {},
   "outputs": [],
   "source": [
    "a=np.array([[1,2,3],[1,23,5]])\n"
   ]
  },
  {
   "cell_type": "code",
   "execution_count": 79,
   "id": "e096925a",
   "metadata": {},
   "outputs": [
    {
     "data": {
      "text/plain": [
       "(2, 3)"
      ]
     },
     "execution_count": 79,
     "metadata": {},
     "output_type": "execute_result"
    }
   ],
   "source": [
    "a.shape"
   ]
  },
  {
   "cell_type": "code",
   "execution_count": 81,
   "id": "3b67717d",
   "metadata": {},
   "outputs": [
    {
     "data": {
      "text/plain": [
       "array([[ 1],\n",
       "       [ 2],\n",
       "       [ 3],\n",
       "       [ 1],\n",
       "       [23],\n",
       "       [ 5]])"
      ]
     },
     "execution_count": 81,
     "metadata": {},
     "output_type": "execute_result"
    }
   ],
   "source": [
    "a7(a)"
   ]
  },
  {
   "cell_type": "code",
   "execution_count": 82,
   "id": "c4a2c0b6",
   "metadata": {},
   "outputs": [],
   "source": [
    "a8 = lambda x: x+1"
   ]
  },
  {
   "cell_type": "code",
   "execution_count": 83,
   "id": "1ad94b6c",
   "metadata": {},
   "outputs": [
    {
     "data": {
      "text/plain": [
       "array([[ 2,  3,  4],\n",
       "       [ 2, 24,  6]])"
      ]
     },
     "execution_count": 83,
     "metadata": {},
     "output_type": "execute_result"
    }
   ],
   "source": [
    "a8(a)"
   ]
  },
  {
   "cell_type": "code",
   "execution_count": 89,
   "id": "6d568fe0",
   "metadata": {},
   "outputs": [],
   "source": [
    "a9= lambda x: x/0"
   ]
  },
  {
   "cell_type": "code",
   "execution_count": 90,
   "id": "9fb83153",
   "metadata": {},
   "outputs": [
    {
     "name": "stderr",
     "output_type": "stream",
     "text": [
      "C:\\Users\\HP\\Anaconda3\\lib\\site-packages\\ipykernel_launcher.py:1: RuntimeWarning: divide by zero encountered in true_divide\n",
      "  \"\"\"Entry point for launching an IPython kernel.\n"
     ]
    },
    {
     "data": {
      "text/plain": [
       "array([[inf, inf, inf],\n",
       "       [inf, inf, inf]])"
      ]
     },
     "execution_count": 90,
     "metadata": {},
     "output_type": "execute_result"
    }
   ],
   "source": [
    "a9(a)# no errror"
   ]
  },
  {
   "cell_type": "code",
   "execution_count": null,
   "id": "150bfa3a",
   "metadata": {},
   "outputs": [],
   "source": []
  },
  {
   "cell_type": "code",
   "execution_count": 21,
   "id": "15d6132b",
   "metadata": {},
   "outputs": [],
   "source": [
    "#q7 : Try to wwrite a funtion whihc can perform a read operation from .txt file \n",
    "import os \n",
    "with open(r\"D:\\d+Project\\sample-text-file.txt\",'r') as f:\n",
    "    lines = f.readlines()\n",
    "\n"
   ]
  },
  {
   "cell_type": "code",
   "execution_count": 6,
   "id": "02b7eda4",
   "metadata": {},
   "outputs": [
    {
     "data": {
      "text/plain": [
       "['Lorem ipsum dolor sit amet, consectetur adipiscing elit, sed do eiusmod tempor incididunt ut labore et dolore magna aliqua. Ut enim ad minim veniam, \\n',\n",
       " 'quis nostrud exercitation ullamco laboris nisi ut aliquip ex ea commodo consequat. \\n',\n",
       " 'Duis aute irure dolor in reprehenderit in voluptate velit esse cillum dolore eu fugiat nulla pariatur. \\n',\n",
       " 'Excepteur sint occaecat cupidatat non proident, sunt in culpa qui officia deserunt mollit anim id est laborum.']"
      ]
     },
     "execution_count": 6,
     "metadata": {},
     "output_type": "execute_result"
    }
   ],
   "source": [
    "lines"
   ]
  },
  {
   "cell_type": "code",
   "execution_count": null,
   "id": "325aba37",
   "metadata": {},
   "outputs": [],
   "source": []
  }
 ],
 "metadata": {
  "kernelspec": {
   "display_name": "Python 3 (ipykernel)",
   "language": "python",
   "name": "python3"
  },
  "language_info": {
   "codemirror_mode": {
    "name": "ipython",
    "version": 3
   },
   "file_extension": ".py",
   "mimetype": "text/x-python",
   "name": "python",
   "nbconvert_exporter": "python",
   "pygments_lexer": "ipython3",
   "version": "3.7.13"
  }
 },
 "nbformat": 4,
 "nbformat_minor": 5
}
