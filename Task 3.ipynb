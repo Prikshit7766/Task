{
 "cells": [
  {
   "cell_type": "code",
   "execution_count": null,
   "id": "9706d8ef",
   "metadata": {},
   "outputs": [],
   "source": [
    "#questions\n",
    "\n",
    "\"\"\"q1 :\n",
    "ineruon \n",
    "ineruon ineruon \n",
    "ineruon ineruon ineruon\n",
    "ineruon ineruon ineruon ineruon\n",
    "\n",
    "q2 - \n",
    "\n",
    "          ineruon\n",
    "    ineruon      ineruon\n",
    "ineruon\t\tineruon \tineruon\n",
    "\tineruon\t\t ineruon\n",
    "\t\t  ineruon\n",
    "\n",
    "l = [[1,2,3,4] , (2,3,4,5,6) , (3,4,5,6,7) , set([23,4,5,45,4,4,5,45,45,4,5]) , {'k1' :\"sudh\" , \"k2\" : \"ineuron\",\"k3\":\n",
    "            \"kumar\" , 3:6 , 7:8} , [\"ineuron\" , \"data science \"]]\n",
    "\n",
    "q3 : Try to extract all the list entity \n",
    "q4 : Try to extract all the dict enteties\n",
    "q5 : Try to extract all the tuples entities\n",
    "q6 : Try to extract all the numerical data it may b a part of dict key and values \n",
    "q7 : Try to give summation of all the numeric data \n",
    "q8 : Try to filter out all the odd values out all numeric data which is a part of a list \n",
    "q9 : Try to extract \"ineruon\" out of this data\n",
    "q10 :Try to find out a number of occurances of all the data \n",
    "q11 : Try to find out number of keys in dict element\n",
    "q12 : Try to filter out all the string data \n",
    "q13 : Try to Find  out alphanum in data\n",
    "q14 : Try to find out multiplication of all numeric value in  the individual collection inside dataset \n",
    "q15 : Try to unwrape all the collection inside collection and create a flat list \n",
    "    \n",
    "    \n",
    "before 29th may 2022 3 PM IST you have to send an answer to me or to shivan \n",
    "sudhanshu@ineuron.ai\n",
    "shivan@ineuron.ai\"\"\""
   ]
  },
  {
   "cell_type": "code",
   "execution_count": 9,
   "id": "115a71ea",
   "metadata": {},
   "outputs": [
    {
     "name": "stdout",
     "output_type": "stream",
     "text": [
      "\n",
      "ineruon  \n",
      "ineruon  ineruon  \n",
      "ineruon  ineruon  ineruon  \n",
      "ineruon  ineruon  ineruon  ineruon  \n"
     ]
    }
   ],
   "source": [
    "# 1\n",
    "n=4\n",
    "for i in range(n+1):\n",
    "    for j in range(i) :\n",
    "        print(\"ineruon \", end=\" \")\n",
    "    print()"
   ]
  },
  {
   "cell_type": "code",
   "execution_count": 2,
   "id": "0a70cc1b",
   "metadata": {},
   "outputs": [
    {
     "name": "stdout",
     "output_type": "stream",
     "text": [
      "\n",
      "ineruon \n",
      "ineruon ineruon \n",
      "ineruon ineruon ineruon \n",
      "ineruon ineruon ineruon ineruon \n"
     ]
    }
   ],
   "source": [
    "#best way\n",
    "n=4\n",
    "for i in range(n+1):\n",
    "    print(\"ineruon \"*(i))\n",
    "    "
   ]
  },
  {
   "cell_type": "code",
   "execution_count": 4,
   "id": "bdcd35bd",
   "metadata": {},
   "outputs": [
    {
     "name": "stdout",
     "output_type": "stream",
     "text": [
      "        ineruon \n",
      "    ineruon ineruon \n",
      "ineruon ineruon ineruon \n",
      "    ineruon ineruon \n",
      "        ineruon \n",
      "            \n"
     ]
    }
   ],
   "source": [
    "n=3\n",
    "z=n\n",
    "s=n\n",
    "for i in range(n):\n",
    "    for j in range(i,n-1):\n",
    "        print(\" \"*(len(\"ineruon\")//2),end=\" \")\n",
    "    for j in range(i+1):\n",
    "        print(\"ineruon\",end=\" \")\n",
    "    for j in range(i-z):\n",
    "        print(\"ineruon\",end=\" \")\n",
    "    print()\n",
    "    \n",
    "for i in range(n):\n",
    "    for j in range(n,s-1,-1):\n",
    "\n",
    "        print(\" \"*(len(\"ineruon\")//2),end=\" \")\n",
    "    for j in range(s,1,-1):\n",
    "        print(\"ineruon\",end=\" \")\n",
    "    print()\n",
    "    s-=1"
   ]
  },
  {
   "cell_type": "code",
   "execution_count": 3,
   "id": "7da3472e",
   "metadata": {},
   "outputs": [
    {
     "name": "stdout",
     "output_type": "stream",
     "text": [
      "                              \n",
      "           ineruon            \n",
      "        ineruonineruon        \n",
      "    ineruonineruonineruon     \n",
      "        ineruonineruon        \n",
      "           ineruon            \n"
     ]
    }
   ],
   "source": [
    "# or\n",
    "for i in range(6):\n",
    "    if i<=3:\n",
    "        n=i\n",
    "    else:\n",
    "        n=6-i\n",
    "    print((\"ineruon\"*n).center(30,\" \"))"
   ]
  },
  {
   "cell_type": "code",
   "execution_count": 2,
   "id": "86c0cd99",
   "metadata": {},
   "outputs": [],
   "source": [
    "l = [[1,2,3,4] , (2,3,4,5,6) , (3,4,5,6,7) , set([23,4,5,45,4,4,5,45,45,4,5]) , {'k1' :\"sudh\" , \"k2\" : \"ineuron\",\"k3\":\n",
    "            \"kumar\" , 3:6 , 7:8} , [\"ineuron\" , \"data science \"]]\n"
   ]
  },
  {
   "cell_type": "code",
   "execution_count": 4,
   "id": "ae59455c",
   "metadata": {},
   "outputs": [
    {
     "name": "stdout",
     "output_type": "stream",
     "text": [
      "list 1 -----> 1 , 2 , 3 , 4\n",
      "list 2 -----> ineuron , data science \n"
     ]
    }
   ],
   "source": [
    "#q3 : Try to extract all the list entity \n",
    "\n",
    "count=1\n",
    "for i in l:\n",
    "    if type(i)==list:\n",
    "        print(\"list\",count,\"----->\",end=\" \")\n",
    "        print(*i,sep=\" , \")\n",
    "        count+=1"
   ]
  },
  {
   "cell_type": "code",
   "execution_count": 100,
   "id": "b0f4b0b2",
   "metadata": {},
   "outputs": [
    {
     "name": "stdout",
     "output_type": "stream",
     "text": [
      "dictionary 1 -----> ('k1', 'sudh') ('k2', 'ineuron') ('k3', 'kumar') (3, 6) (7, 8)\n"
     ]
    }
   ],
   "source": [
    "#q4 : Try to extract all the dict enteties\n",
    "count=1\n",
    "for i in l:\n",
    "    if type(i)==dict:\n",
    "        print(\"dictionary\",count,\"----->\",*i.items())\n",
    "        count+=1"
   ]
  },
  {
   "cell_type": "code",
   "execution_count": 101,
   "id": "4e32160e",
   "metadata": {},
   "outputs": [
    {
     "name": "stdout",
     "output_type": "stream",
     "text": [
      "tuple 1 -----> 2 , 3 , 4 , 5 , 6\n",
      "tuple 2 -----> 3 , 4 , 5 , 6 , 7\n"
     ]
    }
   ],
   "source": [
    "#q5 : Try to extract all the tuples entities\n",
    "count=1\n",
    "for i in l:\n",
    "    if type(i)==tuple:\n",
    "        print(\"tuple\",count,\"----->\",end=\" \")\n",
    "        print(*i,sep=\" , \")\n",
    "        count+=1"
   ]
  },
  {
   "cell_type": "code",
   "execution_count": 143,
   "id": "440dc097",
   "metadata": {},
   "outputs": [
    {
     "name": "stdout",
     "output_type": "stream",
     "text": [
      "all the numerical data\n",
      "1 , 2 , 3 , 4 , 2 , 3 , 4 , 5 , 6 , 3 , 4 , 5 , 6 , 7 , 45 , 4 , 5 , 23 , 3 , 6 , 7 , 8\n",
      "length----------> 22\n"
     ]
    },
    {
     "data": {
      "text/plain": [
       "22"
      ]
     },
     "execution_count": 143,
     "metadata": {},
     "output_type": "execute_result"
    }
   ],
   "source": [
    "#q6 : Try to extract all the numerical data it may b a part of dict key and values \n",
    "a=[]\n",
    "for i in l:\n",
    "    if type(i)==int or type(i)==float :\n",
    "        a.append(i)\n",
    "    elif type(i)==list or type(i)==tuple or  type(i)==set:\n",
    "        for j in i:\n",
    "            if type(j)==int or type(j)==float:\n",
    "                a.append(j)\n",
    "    elif type(i)==dict :\n",
    "        for j in i.items():\n",
    "            if type(j[0])==int or type(j[0])==float:\n",
    "                  a.append(j[0])\n",
    "            if type(j[1])==int or type(j[1])==float:\n",
    "                  a.append(j[1])\n",
    "                  \n",
    "\n",
    "                  \n",
    "print(\"all the numerical data\")          \n",
    "print(*a,sep=\" , \")\n",
    "print(\"length---------->\",len(a))\n",
    "len(a)\n",
    "            \n",
    "        \n"
   ]
  },
  {
   "cell_type": "code",
   "execution_count": 144,
   "id": "f4b17fd1",
   "metadata": {},
   "outputs": [
    {
     "name": "stdout",
     "output_type": "stream",
     "text": [
      "summation of all the numeric data ---------------> 156\n"
     ]
    }
   ],
   "source": [
    "#q7 : Try to give summation of all the numeric data \n",
    "print(\"summation of all the numeric data --------------->\",sum(a))    \n"
   ]
  },
  {
   "cell_type": "code",
   "execution_count": 19,
   "id": "f214e3ce",
   "metadata": {},
   "outputs": [
    {
     "name": "stdout",
     "output_type": "stream",
     "text": [
      "all the numerical data in the list\n",
      "1 , 2 , 3 , 4\n",
      "length----------> 4\n",
      "odd values out all numeric data---------> 1 , 3\n"
     ]
    }
   ],
   "source": [
    "#q8 : Try to filter out all the odd values out all numeric data which is a part of a list \n",
    "c=[]\n",
    "for i in l:\n",
    "\n",
    "    if type(i)==list:\n",
    "        for j in i:\n",
    "            if type(j)==int or type(j)==float:\n",
    "                c.append(j)\n",
    "\n",
    "                  \n",
    "\n",
    "                  \n",
    "print(\"all the numerical data in the list\")          \n",
    "print(*c,sep=\" , \")\n",
    "print(\"length---------->\",len(c))\n",
    "\n",
    "        \n",
    "n=[]\n",
    "for i in c:\n",
    "    if i%2!=0:\n",
    "        n.append(i)\n",
    "print(\"odd values out all numeric data--------->\",end=\" \")\n",
    "print(*n,sep=\" , \")"
   ]
  },
  {
   "cell_type": "code",
   "execution_count": 159,
   "id": "76a2f38f",
   "metadata": {},
   "outputs": [
    {
     "name": "stdout",
     "output_type": "stream",
     "text": [
      "extract ineruon\n",
      "ineuron , ineuron\n",
      "length----------> 2\n"
     ]
    },
    {
     "data": {
      "text/plain": [
       "2"
      ]
     },
     "execution_count": 159,
     "metadata": {},
     "output_type": "execute_result"
    }
   ],
   "source": [
    "#q9 : Try to extract \"ineruon\" out of this data\n",
    "\n",
    "b=[]\n",
    "for i in l:\n",
    "    if type(i)==str and i==\"ineuron\":\n",
    "        \n",
    "        b.append(i)\n",
    "    elif type(i)==list or type(i)==tuple or  type(i)==set:\n",
    "        for j in i:\n",
    "            if type(j)==str and j==\"ineuron\":\n",
    "                b.append(j)\n",
    "   \n",
    "    elif type(i)==dict :\n",
    "        for j in i.items():\n",
    "            if type(j[0])==str and j[0]==\"ineuron\":\n",
    "                  b.append(j[0])\n",
    "                  print(\"scjsbc\")\n",
    "            if type(j[1])==str and j[1]==\"ineuron\":\n",
    "                  b.append(j[1])\n",
    "  \n",
    "\n",
    "                  \n",
    "print(\"extract ineruon\" )          \n",
    "print(*b,sep=\" , \")\n",
    "print(\"length---------->\",len(b))\n",
    "len(b)\n",
    "            \n",
    "        "
   ]
  },
  {
   "cell_type": "code",
   "execution_count": 7,
   "id": "7be418e9",
   "metadata": {},
   "outputs": [
    {
     "name": "stdout",
     "output_type": "stream",
     "text": [
      "all the data \n",
      "1 , 2 , 3 , 4 , 2 , 3 , 4 , 5 , 6 , 3 , 4 , 5 , 6 , 7 , 45 , 4 , 5 , 23 , k1 , sudh , k2 , ineuron , k3 , kumar , 3 , 6 , 7 , 8 , ineuron , data science \n",
      "length----------> 30\n",
      "1 occured 1  times\n",
      "2 occured 2  times\n",
      "3 occured 4  times\n",
      "4 occured 4  times\n",
      "5 occured 3  times\n",
      "6 occured 3  times\n",
      "7 occured 2  times\n",
      "sudh occured 1  times\n",
      "k3 occured 1  times\n",
      "8 occured 1  times\n",
      "ineuron occured 2  times\n",
      "45 occured 1  times\n",
      "k2 occured 1  times\n",
      "k1 occured 1  times\n",
      "data science  occured 1  times\n",
      "kumar occured 1  times\n",
      "23 occured 1  times\n"
     ]
    }
   ],
   "source": [
    "#q10 :Try to find out a number of occurances of all the data \n",
    "d=[]\n",
    "for i in l:\n",
    "    if type(i)==int :\n",
    "        d.append(i)\n",
    "    elif type(i)==list or type(i)==tuple or  type(i)==set:\n",
    "        for j in i:\n",
    "                d.append(j)\n",
    "    elif type(i)==dict :\n",
    "        for j in i.items():\n",
    "            \n",
    "                  d.append(j[0])\n",
    "\n",
    "                  d.append(j[1])\n",
    "                  \n",
    "\n",
    "                  \n",
    "print(\"all the data \")          \n",
    "print(*d,sep=\" , \")\n",
    "print(\"length---------->\",len(d))\n",
    "len(d)\n",
    "\n",
    "\n",
    "set_d=set(d)\n",
    "for i in set_d:\n",
    "    \n",
    "    print(i,\"occured\",d.count(i),\" times\")"
   ]
  },
  {
   "cell_type": "code",
   "execution_count": 165,
   "id": "4da40c94",
   "metadata": {},
   "outputs": [
    {
     "name": "stdout",
     "output_type": "stream",
     "text": [
      "keys in dict element\n",
      "k1 , k2 , k3 , 3 , 7\n",
      "length----------> 5\n"
     ]
    }
   ],
   "source": [
    "#q11 : Try to find out number of keys in dict element\n",
    "\n",
    "e=[]\n",
    "for i in l:\n",
    "    if type(i)==dict :\n",
    "        for j in i.items():\n",
    "            \n",
    "                  e.append(j[0])\n",
    "\n",
    "                  \n",
    "\n",
    "                  \n",
    "print(\"keys in dict element\")          \n",
    "print(*e,sep=\" , \")\n",
    "print(\"length---------->\",len(e))\n",
    "\n",
    "          \n"
   ]
  },
  {
   "cell_type": "code",
   "execution_count": 5,
   "id": "b132de81",
   "metadata": {},
   "outputs": [
    {
     "name": "stdout",
     "output_type": "stream",
     "text": [
      "all the string data\n",
      "k1 , sudh , k2 , ineuron , k3 , kumar , ineuron , data science \n",
      "length----------> 8\n"
     ]
    }
   ],
   "source": [
    "#q12 : Try to filter out all the string data \n",
    "f=[]\n",
    "for i in l:\n",
    "    if type(i)==str:\n",
    "        f.append(i)\n",
    "    elif type(i)==list or type(i)==tuple or  type(i)==set:\n",
    "        for j in i:\n",
    "            if type(j)==str:\n",
    "                f.append(j)\n",
    "    elif type(i)==dict :\n",
    "        for j in i.items():\n",
    "            if type(j[0])==str:\n",
    "                  f.append(j[0])\n",
    "            if type(j[1])==str:\n",
    "                  f.append(j[1])\n",
    "                  \n",
    "\n",
    "                  \n",
    "print(\"all the string data\")          \n",
    "print(*f,sep=\" , \")\n",
    "print(\"length---------->\",len(f))\n",
    "\n",
    "            "
   ]
  },
  {
   "cell_type": "code",
   "execution_count": 18,
   "id": "7293a549",
   "metadata": {},
   "outputs": [
    {
     "name": "stdout",
     "output_type": "stream",
     "text": [
      "all the data \n",
      "1 , 2 , 3 , 4 , 2 , 3 , 4 , 5 , 6 , 3 , 4 , 5 , 6 , 7 , 45 , 4 , 5 , 23 , k1 , sudh , k2 , ineuron , k3 , kumar , 3 , 6 , 7 , 8 , ineuron , data science \n",
      "length----------> 30\n",
      "alphanum in data\n",
      "k1 , sudh , k2 , ineuron , k3 , kumar , ineuron\n",
      "length----------> 7\n"
     ]
    },
    {
     "data": {
      "text/plain": [
       "7"
      ]
     },
     "execution_count": 18,
     "metadata": {},
     "output_type": "execute_result"
    }
   ],
   "source": [
    "#q13 : Try to Find  out alphanum in data\n",
    "\n",
    "d=[]\n",
    "for i in l:\n",
    "    if type(i)==int :\n",
    "        d.append(i)\n",
    "    elif type(i)==list or type(i)==tuple or  type(i)==set:\n",
    "        for j in i:\n",
    "                d.append(j)\n",
    "    elif type(i)==dict :\n",
    "        for j in i.items():\n",
    "            \n",
    "                  d.append(j[0])\n",
    "\n",
    "                  d.append(j[1])\n",
    "                  \n",
    "\n",
    "                  \n",
    "print(\"all the data \")          \n",
    "print(*d,sep=\" , \")\n",
    "print(\"length---------->\",len(d))\n",
    "len(d)\n",
    "\n",
    "z=[]\n",
    "for i in d:\n",
    "    if type(i)==str:\n",
    "        if i.isalnum()==True:\n",
    "            z.append(i)\n",
    "\n",
    "        \n",
    "print(\"alphanum in data\")\n",
    "\n",
    "print(*z,sep=\" , \")\n",
    "print(\"length---------->\",len(z))\n",
    "len(z)\n",
    "\n",
    "        \n"
   ]
  },
  {
   "cell_type": "code",
   "execution_count": 11,
   "id": "96a9a5b2",
   "metadata": {},
   "outputs": [
    {
     "name": "stdout",
     "output_type": "stream",
     "text": [
      " numeric value \n",
      "[]\n",
      "product------> 1\n",
      "sum------> 0\n",
      " numeric value in list \n",
      "[1, 2, 3, 4]\n",
      "product------> 24\n",
      "sum------> 10\n",
      " numeric value in tuple \n",
      "[2, 3, 4, 5, 6, 3, 4, 5, 6, 7]\n",
      "product------> 1814400\n",
      "sum------> 45\n",
      " numeric value in set \n",
      "[45, 4, 5, 23]\n",
      "product------> 20700\n",
      "sum------> 77\n",
      " numeric value in dictionary\n",
      "[3, 6, 7, 8]\n",
      "product------> 1008\n",
      "sum------> 24\n"
     ]
    }
   ],
   "source": [
    "#q14 : Try to find out multiplication of all numeric value in  the individual collection inside dataset \n",
    "\n",
    "p=[]\n",
    "q=[]\n",
    "r=[]\n",
    "s=[]\n",
    "t=[]\n",
    "for i in l:\n",
    "    if type(i)==int or type(i)==float :\n",
    "        p.append(i)\n",
    "    elif type(i)==list :\n",
    "        for j in i:\n",
    "            if type(j)==int or type(j)==float:\n",
    "                q.append(j)\n",
    "    elif type(i)==tuple:\n",
    "        for j in i:\n",
    "            if type(j)==int or type(j)==float:\n",
    "                r.append(j)\n",
    "    elif type(i)==set:\n",
    "        for j in i:\n",
    "            if type(j)==int or type(j)==float:\n",
    "                s.append(j)\n",
    "    elif type(i)==dict :\n",
    "        for j in i.items():\n",
    "            if type(j[0])==int or type(j[0])==float:\n",
    "                  t.append(j[0])\n",
    "            if type(j[1])==int or type(j[1])==float:\n",
    "                  t.append(j[1])\n",
    "                  \n",
    "\n",
    "print(\" numeric value \")     \n",
    "product=1\n",
    "print(p) \n",
    "for x in p:\n",
    "    product *= x\n",
    "print(\"product------>\",product)\n",
    "print(\"sum------>\",sum(p))\n",
    "print(\" numeric value in list \")   \n",
    "print(q)\n",
    "product=1\n",
    "for x in q:\n",
    "    product *= x\n",
    "print(\"product------>\",product)\n",
    "print(\"sum------>\",sum(q))\n",
    "print(\" numeric value in tuple \")   \n",
    "print(r)\n",
    "product=1\n",
    "for x in r:\n",
    "    product *= x\n",
    "print(\"product------>\",product)\n",
    "print(\"sum------>\",sum(r))\n",
    "print(\" numeric value in set \")   \n",
    "print(s)\n",
    "product=1\n",
    "for x in s:\n",
    "    product *= x\n",
    "print(\"product------>\",product)\n",
    "print(\"sum------>\",sum(s))\n",
    "print(\" numeric value in dictionary\")   \n",
    "print(t)\n",
    "product=1\n",
    "for x in t:\n",
    "    product *= x\n",
    "print(\"product------>\",product)\n",
    "print(\"sum------>\",sum(t))"
   ]
  },
  {
   "cell_type": "code",
   "execution_count": 25,
   "id": "349f3102",
   "metadata": {},
   "outputs": [
    {
     "data": {
      "text/plain": [
       "10"
      ]
     },
     "execution_count": 25,
     "metadata": {},
     "output_type": "execute_result"
    }
   ],
   "source": [
    "len(r)"
   ]
  },
  {
   "cell_type": "code",
   "execution_count": 27,
   "id": "c4630e6c",
   "metadata": {},
   "outputs": [
    {
     "name": "stdout",
     "output_type": "stream",
     "text": [
      "all the data \n",
      "1 , 2 , 3 , 4 , 2 , 3 , 4 , 5 , 6 , 3 , 4 , 5 , 6 , 7 , 45 , 4 , 5 , 23 , k1 , sudh , k2 , ineuron , k3 , kumar , 3 , 6 , 7 , 8 , ineuron , data science \n",
      "length----------> 30\n"
     ]
    },
    {
     "data": {
      "text/plain": [
       "30"
      ]
     },
     "execution_count": 27,
     "metadata": {},
     "output_type": "execute_result"
    }
   ],
   "source": [
    "#q15 : Try to unwrape all the collection inside collection and create a flat list \n",
    "d=[]\n",
    "for i in l:\n",
    "    if type(i)==int :\n",
    "        d.append(i)\n",
    "    elif type(i)==list or type(i)==tuple or  type(i)==set:\n",
    "        for j in i:\n",
    "                d.append(j)\n",
    "    elif type(i)==dict :\n",
    "        for j in i.items():\n",
    "            \n",
    "                  d.append(j[0])\n",
    "\n",
    "                  d.append(j[1])\n",
    "                  \n",
    "\n",
    "                  \n",
    "print(\"all the data \")          \n",
    "print(*d,sep=\" , \")\n",
    "print(\"length---------->\",len(d))\n",
    "len(d)\n",
    "\n",
    "\n"
   ]
  },
  {
   "cell_type": "code",
   "execution_count": null,
   "id": "09859857",
   "metadata": {},
   "outputs": [],
   "source": []
  }
 ],
 "metadata": {
  "kernelspec": {
   "display_name": "Python 3 (ipykernel)",
   "language": "python",
   "name": "python3"
  },
  "language_info": {
   "codemirror_mode": {
    "name": "ipython",
    "version": 3
   },
   "file_extension": ".py",
   "mimetype": "text/x-python",
   "name": "python",
   "nbconvert_exporter": "python",
   "pygments_lexer": "ipython3",
   "version": "3.7.13"
  }
 },
 "nbformat": 4,
 "nbformat_minor": 5
}
